{
 "cells": [
  {
   "cell_type": "code",
   "execution_count": 1,
   "metadata": {},
   "outputs": [],
   "source": [
    "real_estate = read.csv(\"real_estate_p.csv\")"
   ]
  },
  {
   "cell_type": "code",
   "execution_count": 2,
   "metadata": {},
   "outputs": [
    {
     "data": {
      "text/html": [
       "<table>\n",
       "<thead><tr><th scope=col>Price</th><th scope=col>Lot.Size</th><th scope=col>Waterfront</th><th scope=col>Age</th><th scope=col>Land.Value</th><th scope=col>New.Construct</th><th scope=col>Central.Air</th><th scope=col>Living.Area</th><th scope=col>Bedrooms</th><th scope=col>Fireplaces</th><th scope=col>Bathrooms</th><th scope=col>Rooms</th></tr></thead>\n",
       "<tbody>\n",
       "\t<tr><td>132500</td><td>0.09  </td><td>0     </td><td> 42   </td><td>50000 </td><td>0     </td><td>0     </td><td> 906  </td><td>2     </td><td>1     </td><td>1.0   </td><td> 5    </td></tr>\n",
       "\t<tr><td> 90000</td><td>0.83  </td><td>0     </td><td> 36   </td><td>22200 </td><td>0     </td><td>0     </td><td>1632  </td><td>3     </td><td>0     </td><td>1.5   </td><td> 6    </td></tr>\n",
       "\t<tr><td>122900</td><td>1.94  </td><td>0     </td><td>  4   </td><td>21200 </td><td>0     </td><td>0     </td><td>1416  </td><td>3     </td><td>0     </td><td>1.5   </td><td> 6    </td></tr>\n",
       "\t<tr><td>325000</td><td>2.29  </td><td>0     </td><td>123   </td><td>12600 </td><td>0     </td><td>0     </td><td>2894  </td><td>7     </td><td>0     </td><td>1.0   </td><td>12    </td></tr>\n",
       "\t<tr><td>120000</td><td>0.92  </td><td>0     </td><td>  1   </td><td>22300 </td><td>0     </td><td>0     </td><td>1624  </td><td>3     </td><td>0     </td><td>2.0   </td><td> 6    </td></tr>\n",
       "\t<tr><td> 87500</td><td>0.88  </td><td>0     </td><td> 17   </td><td>19400 </td><td>0     </td><td>0     </td><td>1092  </td><td>3     </td><td>0     </td><td>1.0   </td><td> 6    </td></tr>\n",
       "</tbody>\n",
       "</table>\n"
      ],
      "text/latex": [
       "\\begin{tabular}{r|llllllllllll}\n",
       " Price & Lot.Size & Waterfront & Age & Land.Value & New.Construct & Central.Air & Living.Area & Bedrooms & Fireplaces & Bathrooms & Rooms\\\\\n",
       "\\hline\n",
       "\t 132500 & 0.09   & 0      &  42    & 50000  & 0      & 0      &  906   & 2      & 1      & 1.0    &  5    \\\\\n",
       "\t  90000 & 0.83   & 0      &  36    & 22200  & 0      & 0      & 1632   & 3      & 0      & 1.5    &  6    \\\\\n",
       "\t 122900 & 1.94   & 0      &   4    & 21200  & 0      & 0      & 1416   & 3      & 0      & 1.5    &  6    \\\\\n",
       "\t 325000 & 2.29   & 0      & 123    & 12600  & 0      & 0      & 2894   & 7      & 0      & 1.0    & 12    \\\\\n",
       "\t 120000 & 0.92   & 0      &   1    & 22300  & 0      & 0      & 1624   & 3      & 0      & 2.0    &  6    \\\\\n",
       "\t  87500 & 0.88   & 0      &  17    & 19400  & 0      & 0      & 1092   & 3      & 0      & 1.0    &  6    \\\\\n",
       "\\end{tabular}\n"
      ],
      "text/markdown": [
       "\n",
       "Price | Lot.Size | Waterfront | Age | Land.Value | New.Construct | Central.Air | Living.Area | Bedrooms | Fireplaces | Bathrooms | Rooms | \n",
       "|---|---|---|---|---|---|\n",
       "| 132500 | 0.09   | 0      |  42    | 50000  | 0      | 0      |  906   | 2      | 1      | 1.0    |  5     | \n",
       "|  90000 | 0.83   | 0      |  36    | 22200  | 0      | 0      | 1632   | 3      | 0      | 1.5    |  6     | \n",
       "| 122900 | 1.94   | 0      |   4    | 21200  | 0      | 0      | 1416   | 3      | 0      | 1.5    |  6     | \n",
       "| 325000 | 2.29   | 0      | 123    | 12600  | 0      | 0      | 2894   | 7      | 0      | 1.0    | 12     | \n",
       "| 120000 | 0.92   | 0      |   1    | 22300  | 0      | 0      | 1624   | 3      | 0      | 2.0    |  6     | \n",
       "|  87500 | 0.88   | 0      |  17    | 19400  | 0      | 0      | 1092   | 3      | 0      | 1.0    |  6     | \n",
       "\n",
       "\n"
      ],
      "text/plain": [
       "  Price  Lot.Size Waterfront Age Land.Value New.Construct Central.Air\n",
       "1 132500 0.09     0           42 50000      0             0          \n",
       "2  90000 0.83     0           36 22200      0             0          \n",
       "3 122900 1.94     0            4 21200      0             0          \n",
       "4 325000 2.29     0          123 12600      0             0          \n",
       "5 120000 0.92     0            1 22300      0             0          \n",
       "6  87500 0.88     0           17 19400      0             0          \n",
       "  Living.Area Bedrooms Fireplaces Bathrooms Rooms\n",
       "1  906        2        1          1.0        5   \n",
       "2 1632        3        0          1.5        6   \n",
       "3 1416        3        0          1.5        6   \n",
       "4 2894        7        0          1.0       12   \n",
       "5 1624        3        0          2.0        6   \n",
       "6 1092        3        0          1.0        6   "
      ]
     },
     "metadata": {},
     "output_type": "display_data"
    }
   ],
   "source": [
    "head(real_estate)"
   ]
  },
  {
   "cell_type": "markdown",
   "metadata": {},
   "source": [
    "Real estate agents know the three most important factors in determining the price of a\n",
    "house are location, location, and location. But what other factors help determine the price\n",
    "at which a house should be listed? Number of bathrooms? Size of the yard?\n",
    "A random sample is drawn from publicly available data on thousands of homes in upstate\n",
    "New York. The sample data are saved in the file ‘real_estate_p.csv’. The variables include the\n",
    "price (in dollars), total living area (in square feet), number of bathrooms, number of\n",
    "bedrooms, size of lot (in acres), age of house (in years), etc.\n",
    "The part B of the project aims at building a linear model to predict the selling price using a\n",
    "set of potential predictor variables. Analysis of nontrivial data entails lengthy calculations,\n",
    "which should be performed by utilizing statistical software. You are required to manage the\n",
    "data set and to obtain important results from data analysis through effective use of R. At\n",
    "the same time, you may appreciate the role of linear regression models in scientific inquiry. "
   ]
  },
  {
   "cell_type": "markdown",
   "metadata": {},
   "source": [
    "Model #1: a multiple regression model including the living area ($X_{1}$), number of bedrooms\n",
    "($X_{2}$), and number of fireplaces ($X_{3}$) as predictor variables.\n",
    "<br/> \n",
    "### (1) State the fitted regression equation. "
   ]
  },
  {
   "cell_type": "code",
   "execution_count": 3,
   "metadata": {},
   "outputs": [
    {
     "data": {
      "text/plain": [
       "\n",
       "Call:\n",
       "lm(formula = Price ~ Living.Area + Bedrooms + Fireplaces, data = real_estate)\n",
       "\n",
       "Residuals:\n",
       "    Min      1Q  Median      3Q     Max \n",
       "-200323  -38243   -5742   28241  306139 \n",
       "\n",
       "Coefficients:\n",
       "              Estimate Std. Error t value Pr(>|t|)    \n",
       "(Intercept)  28357.351  14661.995   1.934   0.0542 .  \n",
       "Living.Area    131.440      9.405  13.975   <2e-16 ***\n",
       "Bedrooms    -15873.874   6355.692  -2.498   0.0131 *  \n",
       "Fireplaces    1138.275   7961.437   0.143   0.8864    \n",
       "---\n",
       "Signif. codes:  0 '***' 0.001 '**' 0.01 '*' 0.05 '.' 0.1 ' ' 1\n",
       "\n",
       "Residual standard error: 61070 on 259 degrees of freedom\n",
       "Multiple R-squared:  0.5872,\tAdjusted R-squared:  0.5824 \n",
       "F-statistic: 122.8 on 3 and 259 DF,  p-value: < 2.2e-16\n"
      ]
     },
     "metadata": {},
     "output_type": "display_data"
    }
   ],
   "source": [
    "multireg = lm(Price~Living.Area+Bedrooms+Fireplaces, data = real_estate)\n",
    "summary(multireg)"
   ]
  },
  {
   "cell_type": "markdown",
   "metadata": {},
   "source": [
    "Price = 28357.351 + 131.44Living.Area - 15873.874Bedrooms + 1138.275Fireplaces"
   ]
  },
  {
   "cell_type": "markdown",
   "metadata": {},
   "source": [
    "### (2) Interpret the coefficient of the number of bedrooms ($X_{2}$). "
   ]
  },
  {
   "cell_type": "markdown",
   "metadata": {},
   "source": [
    "When all other predictors are held constant increasing the number of bedrooms by 1 will decrease the price by $15873.87."
   ]
  },
  {
   "cell_type": "markdown",
   "metadata": {},
   "source": [
    "### (3) Produce an ANOVA table. Report SST, SSR, and SSE, and their corresponding degrees of freedom. "
   ]
  },
  {
   "cell_type": "code",
   "execution_count": 6,
   "metadata": {
    "scrolled": true
   },
   "outputs": [
    {
     "data": {
      "text/html": [
       "<table>\n",
       "<thead><tr><th></th><th scope=col>Df</th><th scope=col>Sum Sq</th><th scope=col>Mean Sq</th><th scope=col>F value</th><th scope=col>Pr(&gt;F)</th></tr></thead>\n",
       "<tbody>\n",
       "\t<tr><th scope=row>Living.Area</th><td>  1         </td><td>1.350146e+12</td><td>1.350146e+12</td><td>362.03939361</td><td>4.209785e-51</td></tr>\n",
       "\t<tr><th scope=row>Bedrooms</th><td>  1         </td><td>2.364153e+10</td><td>2.364153e+10</td><td>  6.33943642</td><td>1.241203e-02</td></tr>\n",
       "\t<tr><th scope=row>Fireplaces</th><td>  1         </td><td>7.623187e+07</td><td>7.623187e+07</td><td>  0.02044145</td><td>8.864222e-01</td></tr>\n",
       "\t<tr><th scope=row>Residuals</th><td>259         </td><td>9.658833e+11</td><td>3.729279e+09</td><td>          NA</td><td>          NA</td></tr>\n",
       "</tbody>\n",
       "</table>\n"
      ],
      "text/latex": [
       "\\begin{tabular}{r|lllll}\n",
       "  & Df & Sum Sq & Mean Sq & F value & Pr(>F)\\\\\n",
       "\\hline\n",
       "\tLiving.Area &   1          & 1.350146e+12 & 1.350146e+12 & 362.03939361 & 4.209785e-51\\\\\n",
       "\tBedrooms &   1          & 2.364153e+10 & 2.364153e+10 &   6.33943642 & 1.241203e-02\\\\\n",
       "\tFireplaces &   1          & 7.623187e+07 & 7.623187e+07 &   0.02044145 & 8.864222e-01\\\\\n",
       "\tResiduals & 259          & 9.658833e+11 & 3.729279e+09 &           NA &           NA\\\\\n",
       "\\end{tabular}\n"
      ],
      "text/markdown": [
       "\n",
       "| <!--/--> | Df | Sum Sq | Mean Sq | F value | Pr(>F) | \n",
       "|---|---|---|---|\n",
       "| Living.Area |   1          | 1.350146e+12 | 1.350146e+12 | 362.03939361 | 4.209785e-51 | \n",
       "| Bedrooms |   1          | 2.364153e+10 | 2.364153e+10 |   6.33943642 | 1.241203e-02 | \n",
       "| Fireplaces |   1          | 7.623187e+07 | 7.623187e+07 |   0.02044145 | 8.864222e-01 | \n",
       "| Residuals | 259          | 9.658833e+11 | 3.729279e+09 |           NA |           NA | \n",
       "\n",
       "\n"
      ],
      "text/plain": [
       "            Df  Sum Sq       Mean Sq      F value      Pr(>F)      \n",
       "Living.Area   1 1.350146e+12 1.350146e+12 362.03939361 4.209785e-51\n",
       "Bedrooms      1 2.364153e+10 2.364153e+10   6.33943642 1.241203e-02\n",
       "Fireplaces    1 7.623187e+07 7.623187e+07   0.02044145 8.864222e-01\n",
       "Residuals   259 9.658833e+11 3.729279e+09           NA           NA"
      ]
     },
     "metadata": {},
     "output_type": "display_data"
    }
   ],
   "source": [
    "anv = anova(multireg)\n",
    "anv"
   ]
  },
  {
   "cell_type": "code",
   "execution_count": 14,
   "metadata": {},
   "outputs": [
    {
     "data": {
      "text/html": [
       "1373863789935.21"
      ],
      "text/latex": [
       "1373863789935.21"
      ],
      "text/markdown": [
       "1373863789935.21"
      ],
      "text/plain": [
       "[1] 1.373864e+12"
      ]
     },
     "metadata": {},
     "output_type": "display_data"
    }
   ],
   "source": [
    "ssr = sum(anv[,2])-anv[4,2]\n",
    "ssr"
   ]
  },
  {
   "cell_type": "code",
   "execution_count": 15,
   "metadata": {},
   "outputs": [
    {
     "data": {
      "text/html": [
       "965883347600.514"
      ],
      "text/latex": [
       "965883347600.514"
      ],
      "text/markdown": [
       "965883347600.514"
      ],
      "text/plain": [
       "[1] 965883347601"
      ]
     },
     "metadata": {},
     "output_type": "display_data"
    }
   ],
   "source": [
    "sse = anv[4,2]\n",
    "sse"
   ]
  },
  {
   "cell_type": "code",
   "execution_count": 16,
   "metadata": {},
   "outputs": [
    {
     "data": {
      "text/html": [
       "2339747137535.73"
      ],
      "text/latex": [
       "2339747137535.73"
      ],
      "text/markdown": [
       "2339747137535.73"
      ],
      "text/plain": [
       "[1] 2.339747e+12"
      ]
     },
     "metadata": {},
     "output_type": "display_data"
    }
   ],
   "source": [
    "sst = ssr + sse\n",
    "sst"
   ]
  },
  {
   "cell_type": "markdown",
   "metadata": {},
   "source": [
    "### 4) Using $\\alpha$ = 0.05, perform an F test of overall linear relationship. State the hypotheses, the value of F-test statistic, p-value, and your conclusion. "
   ]
  },
  {
   "cell_type": "code",
   "execution_count": null,
   "metadata": {},
   "outputs": [],
   "source": []
  }
 ],
 "metadata": {
  "kernelspec": {
   "display_name": "R",
   "language": "R",
   "name": "ir"
  },
  "language_info": {
   "codemirror_mode": "r",
   "file_extension": ".r",
   "mimetype": "text/x-r-source",
   "name": "R",
   "pygments_lexer": "r",
   "version": "3.5.1"
  }
 },
 "nbformat": 4,
 "nbformat_minor": 2
}
