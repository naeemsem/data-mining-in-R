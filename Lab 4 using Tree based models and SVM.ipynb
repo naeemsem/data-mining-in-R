{
 "cells": [
  {
   "cell_type": "code",
   "execution_count": 42,
   "metadata": {},
   "outputs": [
    {
     "name": "stderr",
     "output_type": "stream",
     "text": [
      "Warning message:\n",
      "\"package 'tree' is in use and will not be installed\"Warning message:\n",
      "\"package 'ISLR' is in use and will not be installed\"Warning message:\n",
      "\"package 'gbm' is in use and will not be installed\""
     ]
    }
   ],
   "source": [
    "install.packages(\"tree\",repos = \"http://cran.us.r-project.org\")\n",
    "install.packages(\"ISLR\",repos = \"http://cran.us.r-project.org\")\n",
    "install.packages(\"gbm\",repos = \"http://cran.us.r-project.org\")"
   ]
  },
  {
   "cell_type": "code",
   "execution_count": 43,
   "metadata": {},
   "outputs": [],
   "source": [
    "require(ISLR)\n",
    "require(\"tree\")\n",
    "require(\"randomForest\")\n",
    "require(gbm)"
   ]
  },
  {
   "cell_type": "code",
   "execution_count": 44,
   "metadata": {},
   "outputs": [
    {
     "data": {
      "text/html": [
       "<table>\n",
       "<thead><tr><th></th><th scope=col>Private</th><th scope=col>Apps</th><th scope=col>Accept</th><th scope=col>Enroll</th><th scope=col>Top10perc</th><th scope=col>Top25perc</th><th scope=col>F.Undergrad</th><th scope=col>P.Undergrad</th><th scope=col>Outstate</th><th scope=col>Room.Board</th><th scope=col>Books</th><th scope=col>Personal</th><th scope=col>PhD</th><th scope=col>Terminal</th><th scope=col>S.F.Ratio</th><th scope=col>perc.alumni</th><th scope=col>Expend</th><th scope=col>Grad.Rate</th></tr></thead>\n",
       "<tbody>\n",
       "\t<tr><th scope=row>Abilene Christian University</th><td>Yes  </td><td>1660 </td><td>1232 </td><td>721  </td><td>23   </td><td>52   </td><td>2885 </td><td> 537 </td><td> 7440</td><td>3300 </td><td>450  </td><td>2200 </td><td>70   </td><td>78   </td><td>18.1 </td><td>12   </td><td> 7041</td><td>60   </td></tr>\n",
       "\t<tr><th scope=row>Adelphi University</th><td>Yes  </td><td>2186 </td><td>1924 </td><td>512  </td><td>16   </td><td>29   </td><td>2683 </td><td>1227 </td><td>12280</td><td>6450 </td><td>750  </td><td>1500 </td><td>29   </td><td>30   </td><td>12.2 </td><td>16   </td><td>10527</td><td>56   </td></tr>\n",
       "\t<tr><th scope=row>Adrian College</th><td>Yes  </td><td>1428 </td><td>1097 </td><td>336  </td><td>22   </td><td>50   </td><td>1036 </td><td>  99 </td><td>11250</td><td>3750 </td><td>400  </td><td>1165 </td><td>53   </td><td>66   </td><td>12.9 </td><td>30   </td><td> 8735</td><td>54   </td></tr>\n",
       "\t<tr><th scope=row>Agnes Scott College</th><td>Yes  </td><td> 417 </td><td> 349 </td><td>137  </td><td>60   </td><td>89   </td><td> 510 </td><td>  63 </td><td>12960</td><td>5450 </td><td>450  </td><td> 875 </td><td>92   </td><td>97   </td><td> 7.7 </td><td>37   </td><td>19016</td><td>59   </td></tr>\n",
       "\t<tr><th scope=row>Alaska Pacific University</th><td>Yes  </td><td> 193 </td><td> 146 </td><td> 55  </td><td>16   </td><td>44   </td><td> 249 </td><td> 869 </td><td> 7560</td><td>4120 </td><td>800  </td><td>1500 </td><td>76   </td><td>72   </td><td>11.9 </td><td> 2   </td><td>10922</td><td>15   </td></tr>\n",
       "\t<tr><th scope=row>Albertson College</th><td>Yes  </td><td> 587 </td><td> 479 </td><td>158  </td><td>38   </td><td>62   </td><td> 678 </td><td>  41 </td><td>13500</td><td>3335 </td><td>500  </td><td> 675 </td><td>67   </td><td>73   </td><td> 9.4 </td><td>11   </td><td> 9727</td><td>55   </td></tr>\n",
       "</tbody>\n",
       "</table>\n"
      ],
      "text/latex": [
       "\\begin{tabular}{r|llllllllllllllllll}\n",
       "  & Private & Apps & Accept & Enroll & Top10perc & Top25perc & F.Undergrad & P.Undergrad & Outstate & Room.Board & Books & Personal & PhD & Terminal & S.F.Ratio & perc.alumni & Expend & Grad.Rate\\\\\n",
       "\\hline\n",
       "\tAbilene Christian University & Yes   & 1660  & 1232  & 721   & 23    & 52    & 2885  &  537  &  7440 & 3300  & 450   & 2200  & 70    & 78    & 18.1  & 12    &  7041 & 60   \\\\\n",
       "\tAdelphi University & Yes   & 2186  & 1924  & 512   & 16    & 29    & 2683  & 1227  & 12280 & 6450  & 750   & 1500  & 29    & 30    & 12.2  & 16    & 10527 & 56   \\\\\n",
       "\tAdrian College & Yes   & 1428  & 1097  & 336   & 22    & 50    & 1036  &   99  & 11250 & 3750  & 400   & 1165  & 53    & 66    & 12.9  & 30    &  8735 & 54   \\\\\n",
       "\tAgnes Scott College & Yes   &  417  &  349  & 137   & 60    & 89    &  510  &   63  & 12960 & 5450  & 450   &  875  & 92    & 97    &  7.7  & 37    & 19016 & 59   \\\\\n",
       "\tAlaska Pacific University & Yes   &  193  &  146  &  55   & 16    & 44    &  249  &  869  &  7560 & 4120  & 800   & 1500  & 76    & 72    & 11.9  &  2    & 10922 & 15   \\\\\n",
       "\tAlbertson College & Yes   &  587  &  479  & 158   & 38    & 62    &  678  &   41  & 13500 & 3335  & 500   &  675  & 67    & 73    &  9.4  & 11    &  9727 & 55   \\\\\n",
       "\\end{tabular}\n"
      ],
      "text/markdown": [
       "\n",
       "| <!--/--> | Private | Apps | Accept | Enroll | Top10perc | Top25perc | F.Undergrad | P.Undergrad | Outstate | Room.Board | Books | Personal | PhD | Terminal | S.F.Ratio | perc.alumni | Expend | Grad.Rate | \n",
       "|---|---|---|---|---|---|\n",
       "| Abilene Christian University | Yes   | 1660  | 1232  | 721   | 23    | 52    | 2885  |  537  |  7440 | 3300  | 450   | 2200  | 70    | 78    | 18.1  | 12    |  7041 | 60    | \n",
       "| Adelphi University | Yes   | 2186  | 1924  | 512   | 16    | 29    | 2683  | 1227  | 12280 | 6450  | 750   | 1500  | 29    | 30    | 12.2  | 16    | 10527 | 56    | \n",
       "| Adrian College | Yes   | 1428  | 1097  | 336   | 22    | 50    | 1036  |   99  | 11250 | 3750  | 400   | 1165  | 53    | 66    | 12.9  | 30    |  8735 | 54    | \n",
       "| Agnes Scott College | Yes   |  417  |  349  | 137   | 60    | 89    |  510  |   63  | 12960 | 5450  | 450   |  875  | 92    | 97    |  7.7  | 37    | 19016 | 59    | \n",
       "| Alaska Pacific University | Yes   |  193  |  146  |  55   | 16    | 44    |  249  |  869  |  7560 | 4120  | 800   | 1500  | 76    | 72    | 11.9  |  2    | 10922 | 15    | \n",
       "| Albertson College | Yes   |  587  |  479  | 158   | 38    | 62    |  678  |   41  | 13500 | 3335  | 500   |  675  | 67    | 73    |  9.4  | 11    |  9727 | 55    | \n",
       "\n",
       "\n"
      ],
      "text/plain": [
       "                             Private Apps Accept Enroll Top10perc Top25perc\n",
       "Abilene Christian University Yes     1660 1232   721    23        52       \n",
       "Adelphi University           Yes     2186 1924   512    16        29       \n",
       "Adrian College               Yes     1428 1097   336    22        50       \n",
       "Agnes Scott College          Yes      417  349   137    60        89       \n",
       "Alaska Pacific University    Yes      193  146    55    16        44       \n",
       "Albertson College            Yes      587  479   158    38        62       \n",
       "                             F.Undergrad P.Undergrad Outstate Room.Board Books\n",
       "Abilene Christian University 2885         537         7440    3300       450  \n",
       "Adelphi University           2683        1227        12280    6450       750  \n",
       "Adrian College               1036          99        11250    3750       400  \n",
       "Agnes Scott College           510          63        12960    5450       450  \n",
       "Alaska Pacific University     249         869         7560    4120       800  \n",
       "Albertson College             678          41        13500    3335       500  \n",
       "                             Personal PhD Terminal S.F.Ratio perc.alumni Expend\n",
       "Abilene Christian University 2200     70  78       18.1      12           7041 \n",
       "Adelphi University           1500     29  30       12.2      16          10527 \n",
       "Adrian College               1165     53  66       12.9      30           8735 \n",
       "Agnes Scott College           875     92  97        7.7      37          19016 \n",
       "Alaska Pacific University    1500     76  72       11.9       2          10922 \n",
       "Albertson College             675     67  73        9.4      11           9727 \n",
       "                             Grad.Rate\n",
       "Abilene Christian University 60       \n",
       "Adelphi University           56       \n",
       "Adrian College               54       \n",
       "Agnes Scott College          59       \n",
       "Alaska Pacific University    15       \n",
       "Albertson College            55       "
      ]
     },
     "metadata": {},
     "output_type": "display_data"
    },
    {
     "name": "stderr",
     "output_type": "stream",
     "text": [
      "The following objects are masked from College (pos = 4):\n",
      "\n",
      "    Accept, Apps, Books, Enroll, Expend, F.Undergrad, Grad.Rate,\n",
      "    Outstate, P.Undergrad, perc.alumni, Personal, PhD, Private,\n",
      "    Room.Board, S.F.Ratio, Terminal, Top10perc, Top25perc\n",
      "\n",
      "The following objects are masked from College (pos = 5):\n",
      "\n",
      "    Accept, Apps, Books, Enroll, Expend, F.Undergrad, Grad.Rate,\n",
      "    Outstate, P.Undergrad, perc.alumni, Personal, PhD, Private,\n",
      "    Room.Board, S.F.Ratio, Terminal, Top10perc, Top25perc\n",
      "\n"
     ]
    }
   ],
   "source": [
    "head(College)\n",
    "attach(College)"
   ]
  },
  {
   "cell_type": "markdown",
   "metadata": {},
   "source": [
    "# Chapter 8 #12\n",
    "12. Apply boosting, bagging, and random forests to a data set of your\n",
    "choice. Be sure to fit the models on a training set and to evaluate their\n",
    "performance on a test set. How accurate are the results compared\n",
    "to simple methods like linear or logistic regression? Which of these\n",
    "approaches yields the best performance?"
   ]
  },
  {
   "cell_type": "markdown",
   "metadata": {},
   "source": [
    "## train test split"
   ]
  },
  {
   "cell_type": "code",
   "execution_count": 45,
   "metadata": {},
   "outputs": [],
   "source": [
    "set.seed(1)\n",
    "nobs = dim(College)[1]\n",
    "split  = 0.7 ## 70/30 split of datatset\n",
    "train = sample(1:nobs, split*nobs)\n",
    "test = -train\n",
    "traindata = College[train,]\n",
    "testdata = College[test,]\n",
    "testoutcomes = Grad.Rate[test]"
   ]
  },
  {
   "cell_type": "markdown",
   "metadata": {},
   "source": [
    "## Bagging special case of random forest using all predictors"
   ]
  },
  {
   "cell_type": "code",
   "execution_count": 46,
   "metadata": {},
   "outputs": [
    {
     "data": {
      "text/plain": [
       "\n",
       "Call:\n",
       " randomForest(formula = Grad.Rate ~ ., data = traindata, mtry = 15,      imprtance = TRUE) \n",
       "               Type of random forest: regression\n",
       "                     Number of trees: 500\n",
       "No. of variables tried at each split: 15\n",
       "\n",
       "          Mean of squared residuals: 157.0952\n",
       "                    % Var explained: 42.33"
      ]
     },
     "metadata": {},
     "output_type": "display_data"
    },
    {
     "data": {
      "text/html": [
       "<table>\n",
       "<thead><tr><th></th><th scope=col>IncNodePurity</th></tr></thead>\n",
       "<tbody>\n",
       "\t<tr><th scope=row>Private</th><td>  161.274</td></tr>\n",
       "\t<tr><th scope=row>Apps</th><td> 6991.486</td></tr>\n",
       "\t<tr><th scope=row>Accept</th><td> 3266.000</td></tr>\n",
       "\t<tr><th scope=row>Enroll</th><td> 6351.778</td></tr>\n",
       "\t<tr><th scope=row>Top10perc</th><td>10224.292</td></tr>\n",
       "\t<tr><th scope=row>Top25perc</th><td>12612.803</td></tr>\n",
       "\t<tr><th scope=row>F.Undergrad</th><td> 4922.139</td></tr>\n",
       "\t<tr><th scope=row>P.Undergrad</th><td> 5457.072</td></tr>\n",
       "\t<tr><th scope=row>Outstate</th><td>46419.760</td></tr>\n",
       "\t<tr><th scope=row>Room.Board</th><td> 5393.883</td></tr>\n",
       "\t<tr><th scope=row>Books</th><td> 4486.530</td></tr>\n",
       "\t<tr><th scope=row>Personal</th><td> 7244.131</td></tr>\n",
       "\t<tr><th scope=row>PhD</th><td> 3403.911</td></tr>\n",
       "\t<tr><th scope=row>Terminal</th><td> 3587.069</td></tr>\n",
       "\t<tr><th scope=row>S.F.Ratio</th><td> 4179.578</td></tr>\n",
       "\t<tr><th scope=row>perc.alumni</th><td>11971.056</td></tr>\n",
       "\t<tr><th scope=row>Expend</th><td> 8383.056</td></tr>\n",
       "</tbody>\n",
       "</table>\n"
      ],
      "text/latex": [
       "\\begin{tabular}{r|l}\n",
       "  & IncNodePurity\\\\\n",
       "\\hline\n",
       "\tPrivate &   161.274\\\\\n",
       "\tApps &  6991.486\\\\\n",
       "\tAccept &  3266.000\\\\\n",
       "\tEnroll &  6351.778\\\\\n",
       "\tTop10perc & 10224.292\\\\\n",
       "\tTop25perc & 12612.803\\\\\n",
       "\tF.Undergrad &  4922.139\\\\\n",
       "\tP.Undergrad &  5457.072\\\\\n",
       "\tOutstate & 46419.760\\\\\n",
       "\tRoom.Board &  5393.883\\\\\n",
       "\tBooks &  4486.530\\\\\n",
       "\tPersonal &  7244.131\\\\\n",
       "\tPhD &  3403.911\\\\\n",
       "\tTerminal &  3587.069\\\\\n",
       "\tS.F.Ratio &  4179.578\\\\\n",
       "\tperc.alumni & 11971.056\\\\\n",
       "\tExpend &  8383.056\\\\\n",
       "\\end{tabular}\n"
      ],
      "text/markdown": [
       "\n",
       "| <!--/--> | IncNodePurity | \n",
       "|---|---|---|---|---|---|---|---|---|---|---|---|---|---|---|---|---|\n",
       "| Private |   161.274 | \n",
       "| Apps |  6991.486 | \n",
       "| Accept |  3266.000 | \n",
       "| Enroll |  6351.778 | \n",
       "| Top10perc | 10224.292 | \n",
       "| Top25perc | 12612.803 | \n",
       "| F.Undergrad |  4922.139 | \n",
       "| P.Undergrad |  5457.072 | \n",
       "| Outstate | 46419.760 | \n",
       "| Room.Board |  5393.883 | \n",
       "| Books |  4486.530 | \n",
       "| Personal |  7244.131 | \n",
       "| PhD |  3403.911 | \n",
       "| Terminal |  3587.069 | \n",
       "| S.F.Ratio |  4179.578 | \n",
       "| perc.alumni | 11971.056 | \n",
       "| Expend |  8383.056 | \n",
       "\n",
       "\n"
      ],
      "text/plain": [
       "            IncNodePurity\n",
       "Private       161.274    \n",
       "Apps         6991.486    \n",
       "Accept       3266.000    \n",
       "Enroll       6351.778    \n",
       "Top10perc   10224.292    \n",
       "Top25perc   12612.803    \n",
       "F.Undergrad  4922.139    \n",
       "P.Undergrad  5457.072    \n",
       "Outstate    46419.760    \n",
       "Room.Board   5393.883    \n",
       "Books        4486.530    \n",
       "Personal     7244.131    \n",
       "PhD          3403.911    \n",
       "Terminal     3587.069    \n",
       "S.F.Ratio    4179.578    \n",
       "perc.alumni 11971.056    \n",
       "Expend       8383.056    "
      ]
     },
     "metadata": {},
     "output_type": "display_data"
    },
    {
     "data": {
      "image/png": "[encoded data removed]",
      "text/plain": [
       "Plot with title \"bag.college\""
      ]
     },
     "metadata": {},
     "output_type": "display_data"
    }
   ],
   "source": [
    "bag.college = randomForest(Grad.Rate~., data = traindata, mtry = 15, imprtance = TRUE)\n",
    "bag.college\n",
    "#how important a variable is\n",
    "importance(bag.college)\n",
    "varImpPlot(bag.college)"
   ]
  },
  {
   "cell_type": "markdown",
   "metadata": {},
   "source": [
    "## prediction on test data"
   ]
  },
  {
   "cell_type": "code",
   "execution_count": 47,
   "metadata": {},
   "outputs": [
    {
     "data": {
      "text/html": [
       "204.745993059801"
      ],
      "text/latex": [
       "204.745993059801"
      ],
      "text/markdown": [
       "204.745993059801"
      ],
      "text/plain": [
       "[1] 204.746"
      ]
     },
     "metadata": {},
     "output_type": "display_data"
    },
    {
     "data": {
      "image/png": "[encoded data removed]",
      "text/plain": [
       "plot without title"
      ]
     },
     "metadata": {},
     "output_type": "display_data"
    }
   ],
   "source": [
    "predict.bag = predict(bag.college, newdata = testdata)\n",
    "mean((predict.bag- testoutcomes)^2)\n",
    "plot(predict.bag, testoutcomes); abline(0,1,col = \"red\")"
   ]
  },
  {
   "cell_type": "markdown",
   "metadata": {},
   "source": [
    "## random forest"
   ]
  },
  {
   "cell_type": "code",
   "execution_count": 48,
   "metadata": {},
   "outputs": [
    {
     "data": {
      "text/html": [
       "-1.09172492877493"
      ],
      "text/latex": [
       "-1.09172492877493"
      ],
      "text/markdown": [
       "-1.09172492877493"
      ],
      "text/plain": [
       "[1] -1.091725"
      ]
     },
     "metadata": {},
     "output_type": "display_data"
    },
    {
     "data": {
      "image/png": "[encoded data removed]",
      "text/plain": [
       "plot without title"
      ]
     },
     "metadata": {},
     "output_type": "display_data"
    },
    {
     "data": {
      "image/png": "[encoded data removed]",
      "text/plain": [
       "Plot with title \"rf.coll\""
      ]
     },
     "metadata": {},
     "output_type": "display_data"
    }
   ],
   "source": [
    "?randomForest\n",
    "mse.rf = rep(0,15)\n",
    "for(d in 1:15){\n",
    "  rf.college = randomForest(Grad.Rate~., data = traindata, mtry = d, imprtance = TRUE)\n",
    "  predict.rf = predict(rf.college, newdata = testdata)\n",
    "  mse.rf[d] = mean((predict.rf - testoutcomes))\n",
    "}\n",
    "#take min test errror\n",
    "MTRY = c(1:15)\n",
    "plot( MTRY, mse.rf, type = \"b\", col=\"red\")\n",
    "min(mse.rf)\n",
    "\n",
    "# we found that mtry = 5 to be the one with the lowest error\n",
    "rf.coll = randomForest(Grad.Rate~.,data= traindata, mtry = 5, imprtance = TRUE)\n",
    "varImpPlot(rf.coll)"
   ]
  },
  {
   "cell_type": "markdown",
   "metadata": {},
   "source": [
    "## boosting\n",
    "regression analysis set distribution to gaussian.\n",
    " categorical variables set distribution to bernoulli"
   ]
  },
  {
   "cell_type": "code",
   "execution_count": 49,
   "metadata": {},
   "outputs": [
    {
     "data": {
      "text/html": [
       "<table>\n",
       "<thead><tr><th></th><th scope=col>var</th><th scope=col>rel.inf</th></tr></thead>\n",
       "<tbody>\n",
       "\t<tr><th scope=row>Outstate</th><td>Outstate   </td><td>29.7164834 </td></tr>\n",
       "\t<tr><th scope=row>perc.alumni</th><td>perc.alumni</td><td>10.1556004 </td></tr>\n",
       "\t<tr><th scope=row>Top25perc</th><td>Top25perc  </td><td> 9.5900014 </td></tr>\n",
       "\t<tr><th scope=row>Top10perc</th><td>Top10perc  </td><td> 8.4411933 </td></tr>\n",
       "\t<tr><th scope=row>Enroll</th><td>Enroll     </td><td> 5.1416716 </td></tr>\n",
       "\t<tr><th scope=row>Room.Board</th><td>Room.Board </td><td> 5.1323857 </td></tr>\n",
       "\t<tr><th scope=row>F.Undergrad</th><td>F.Undergrad</td><td> 4.5581699 </td></tr>\n",
       "\t<tr><th scope=row>P.Undergrad</th><td>P.Undergrad</td><td> 4.3698346 </td></tr>\n",
       "\t<tr><th scope=row>Apps</th><td>Apps       </td><td> 4.3482133 </td></tr>\n",
       "\t<tr><th scope=row>Personal</th><td>Personal   </td><td> 4.1385173 </td></tr>\n",
       "\t<tr><th scope=row>Expend</th><td>Expend     </td><td> 3.6596364 </td></tr>\n",
       "\t<tr><th scope=row>S.F.Ratio</th><td>S.F.Ratio  </td><td> 2.4272949 </td></tr>\n",
       "\t<tr><th scope=row>Terminal</th><td>Terminal   </td><td> 2.1562480 </td></tr>\n",
       "\t<tr><th scope=row>PhD</th><td>PhD        </td><td> 2.1486227 </td></tr>\n",
       "\t<tr><th scope=row>Books</th><td>Books      </td><td> 2.1270548 </td></tr>\n",
       "\t<tr><th scope=row>Accept</th><td>Accept     </td><td> 1.7850794 </td></tr>\n",
       "\t<tr><th scope=row>Private</th><td>Private    </td><td> 0.1039928 </td></tr>\n",
       "</tbody>\n",
       "</table>\n"
      ],
      "text/latex": [
       "\\begin{tabular}{r|ll}\n",
       "  & var & rel.inf\\\\\n",
       "\\hline\n",
       "\tOutstate & Outstate    & 29.7164834 \\\\\n",
       "\tperc.alumni & perc.alumni & 10.1556004 \\\\\n",
       "\tTop25perc & Top25perc   &  9.5900014 \\\\\n",
       "\tTop10perc & Top10perc   &  8.4411933 \\\\\n",
       "\tEnroll & Enroll      &  5.1416716 \\\\\n",
       "\tRoom.Board & Room.Board  &  5.1323857 \\\\\n",
       "\tF.Undergrad & F.Undergrad &  4.5581699 \\\\\n",
       "\tP.Undergrad & P.Undergrad &  4.3698346 \\\\\n",
       "\tApps & Apps        &  4.3482133 \\\\\n",
       "\tPersonal & Personal    &  4.1385173 \\\\\n",
       "\tExpend & Expend      &  3.6596364 \\\\\n",
       "\tS.F.Ratio & S.F.Ratio   &  2.4272949 \\\\\n",
       "\tTerminal & Terminal    &  2.1562480 \\\\\n",
       "\tPhD & PhD         &  2.1486227 \\\\\n",
       "\tBooks & Books       &  2.1270548 \\\\\n",
       "\tAccept & Accept      &  1.7850794 \\\\\n",
       "\tPrivate & Private     &  0.1039928 \\\\\n",
       "\\end{tabular}\n"
      ],
      "text/markdown": [
       "\n",
       "| <!--/--> | var | rel.inf | \n",
       "|---|---|---|---|---|---|---|---|---|---|---|---|---|---|---|---|---|\n",
       "| Outstate | Outstate    | 29.7164834  | \n",
       "| perc.alumni | perc.alumni | 10.1556004  | \n",
       "| Top25perc | Top25perc   |  9.5900014  | \n",
       "| Top10perc | Top10perc   |  8.4411933  | \n",
       "| Enroll | Enroll      |  5.1416716  | \n",
       "| Room.Board | Room.Board  |  5.1323857  | \n",
       "| F.Undergrad | F.Undergrad |  4.5581699  | \n",
       "| P.Undergrad | P.Undergrad |  4.3698346  | \n",
       "| Apps | Apps        |  4.3482133  | \n",
       "| Personal | Personal    |  4.1385173  | \n",
       "| Expend | Expend      |  3.6596364  | \n",
       "| S.F.Ratio | S.F.Ratio   |  2.4272949  | \n",
       "| Terminal | Terminal    |  2.1562480  | \n",
       "| PhD | PhD         |  2.1486227  | \n",
       "| Books | Books       |  2.1270548  | \n",
       "| Accept | Accept      |  1.7850794  | \n",
       "| Private | Private     |  0.1039928  | \n",
       "\n",
       "\n"
      ],
      "text/plain": [
       "            var         rel.inf   \n",
       "Outstate    Outstate    29.7164834\n",
       "perc.alumni perc.alumni 10.1556004\n",
       "Top25perc   Top25perc    9.5900014\n",
       "Top10perc   Top10perc    8.4411933\n",
       "Enroll      Enroll       5.1416716\n",
       "Room.Board  Room.Board   5.1323857\n",
       "F.Undergrad F.Undergrad  4.5581699\n",
       "P.Undergrad P.Undergrad  4.3698346\n",
       "Apps        Apps         4.3482133\n",
       "Personal    Personal     4.1385173\n",
       "Expend      Expend       3.6596364\n",
       "S.F.Ratio   S.F.Ratio    2.4272949\n",
       "Terminal    Terminal     2.1562480\n",
       "PhD         PhD          2.1486227\n",
       "Books       Books        2.1270548\n",
       "Accept      Accept       1.7850794\n",
       "Private     Private      0.1039928"
      ]
     },
     "metadata": {},
     "output_type": "display_data"
    },
    {
     "data": {
      "image/png": "[encoded data removed]",
      "text/plain": [
       "plot without title"
      ]
     },
     "metadata": {},
     "output_type": "display_data"
    }
   ],
   "source": [
    "boost = gbm(Grad.Rate~., data = traindata, distribution = \"gaussian\", n.trees = 5000, interaction.depth = 4, shrinkage = 0.001)\n",
    "summary(boost)"
   ]
  },
  {
   "cell_type": "code",
   "execution_count": 50,
   "metadata": {},
   "outputs": [
    {
     "data": {},
     "metadata": {},
     "output_type": "display_data"
    },
    {
     "data": {
      "text/html": [
       "191.162045671659"
      ],
      "text/latex": [
       "191.162045671659"
      ],
      "text/markdown": [
       "191.162045671659"
      ],
      "text/plain": [
       "[1] 191.162"
      ]
     },
     "metadata": {},
     "output_type": "display_data"
    },
    {
     "data": {
      "image/png": "[encoded data removed]",
      "text/plain": [
       "plot without title"
      ]
     },
     "metadata": {},
     "output_type": "display_data"
    }
   ],
   "source": [
    "plot(boost, i = \"Outstate\")\n",
    "predict.boost = predict(boost, newdata = testdata, n.trees = 5000)\n",
    "mean((predict.boost - testoutcomes)^2) ## with boosting we reduced the test error"
   ]
  },
  {
   "cell_type": "markdown",
   "metadata": {},
   "source": [
    "## tuning lambda"
   ]
  },
  {
   "cell_type": "code",
   "execution_count": 51,
   "metadata": {},
   "outputs": [
    {
     "data": {
      "text/html": [
       "191.56314658104"
      ],
      "text/latex": [
       "191.56314658104"
      ],
      "text/markdown": [
       "191.56314658104"
      ],
      "text/plain": [
       "[1] 191.5631"
      ]
     },
     "metadata": {},
     "output_type": "display_data"
    },
    {
     "data": {
      "image/png": "[encoded data removed]",
      "text/plain": [
       "plot without title"
      ]
     },
     "metadata": {},
     "output_type": "display_data"
    }
   ],
   "source": [
    "lambda = c(.00001,.0001,.001,.01,.1,.15,.2)\n",
    "counter = 1\n",
    "mse.boost = rep(0,7)\n",
    "for (d in lambda) {\n",
    "  boost = gbm(Grad.Rate~., data = traindata, distribution = \"gaussian\", n.trees = 5000, interaction.depth = 4, shrinkage = d)\n",
    "  predict.boost = predict(boost, newdata = testdata, n.trees = 5000)\n",
    "  mse.boost[counter]= mean((predict.boost- testoutcomes)^2)\n",
    "  counter= counter+1\n",
    "}\n",
    "\n",
    "\n",
    "plot(lambda, mse.boost, type= \"b\", col = \"red\")\n",
    "min(mse.boost)\n",
    "\n",
    "# adjusting lambda has reduced mse further"
   ]
  },
  {
   "cell_type": "markdown",
   "metadata": {},
   "source": [
    "## tuning tree size"
   ]
  },
  {
   "cell_type": "code",
   "execution_count": 52,
   "metadata": {},
   "outputs": [
    {
     "data": {
      "text/html": [
       "191.774925683458"
      ],
      "text/latex": [
       "191.774925683458"
      ],
      "text/markdown": [
       "191.774925683458"
      ],
      "text/plain": [
       "[1] 191.7749"
      ]
     },
     "metadata": {},
     "output_type": "display_data"
    },
    {
     "data": {
      "image/png": "[encoded data removed]",
      "text/plain": [
       "plot without title"
      ]
     },
     "metadata": {},
     "output_type": "display_data"
    }
   ],
   "source": [
    "treesize = c(50,100,200,400,500,1000,2000,3000,4000,5000,6000,7000,8000,9000,10000)\n",
    "counter = 1\n",
    "mse.boost = rep(0,15)\n",
    "for (d in treesize) {\n",
    "  boost = gbm(Grad.Rate~., data = traindata, distribution = \"gaussian\", n.trees = d, interaction.depth = 4, shrinkage =0.01)\n",
    "  predict.boost = predict(boost, newdata = testdata, n.trees = d)\n",
    "  mse.boost[counter]= mean((predict.boost- testoutcomes)^2)\n",
    "  counter= counter+1\n",
    "}\n",
    "\n",
    "\n",
    "plot(treesize, mse.boost, type= \"b\", col = \"red\")\n",
    "min(mse.boost)"
   ]
  },
  {
   "cell_type": "markdown",
   "metadata": {},
   "source": [
    "## linear regression approach"
   ]
  },
  {
   "cell_type": "code",
   "execution_count": 53,
   "metadata": {},
   "outputs": [
    {
     "data": {
      "text/plain": [
       "\n",
       "Call:\n",
       "lm(formula = Grad.Rate ~ ., data = traindata)\n",
       "\n",
       "Residuals:\n",
       "    Min      1Q  Median      3Q     Max \n",
       "-50.447  -6.505  -0.261   6.622  50.917 \n",
       "\n",
       "Coefficients:\n",
       "              Estimate Std. Error t value Pr(>|t|)    \n",
       "(Intercept) 32.3536443  5.7343876   5.642 2.75e-08 ***\n",
       "PrivateYes   2.5450215  1.9701603   1.292 0.197000    \n",
       "Apps         0.0009927  0.0005041   1.969 0.049438 *  \n",
       "Accept      -0.0005627  0.0009738  -0.578 0.563637    \n",
       "Enroll       0.0008930  0.0024924   0.358 0.720276    \n",
       "Top10perc    0.1464341  0.0838843   1.746 0.081454 .  \n",
       "Top25perc    0.1038193  0.0638749   1.625 0.104687    \n",
       "F.Undergrad -0.0002165  0.0004528  -0.478 0.632678    \n",
       "P.Undergrad -0.0015949  0.0005947  -2.682 0.007555 ** \n",
       "Outstate     0.0010342  0.0002687   3.849 0.000133 ***\n",
       "Room.Board   0.0019590  0.0006863   2.854 0.004484 ** \n",
       "Books       -0.0004690  0.0037203  -0.126 0.899727    \n",
       "Personal    -0.0012161  0.0009156  -1.328 0.184695    \n",
       "PhD          0.0843978  0.0701055   1.204 0.229183    \n",
       "Terminal    -0.0628465  0.0785994  -0.800 0.424316    \n",
       "S.F.Ratio    0.1137661  0.1912031   0.595 0.552099    \n",
       "perc.alumni  0.2410051  0.0581085   4.148 3.92e-05 ***\n",
       "Expend      -0.0005137  0.0001783  -2.882 0.004115 ** \n",
       "---\n",
       "Signif. codes:  0 '***' 0.001 '**' 0.01 '*' 0.05 '.' 0.1 ' ' 1\n",
       "\n",
       "Residual standard error: 12.38 on 525 degrees of freedom\n",
       "Multiple R-squared:  0.4556,\tAdjusted R-squared:  0.438 \n",
       "F-statistic: 25.85 on 17 and 525 DF,  p-value: < 2.2e-16\n"
      ]
     },
     "metadata": {},
     "output_type": "display_data"
    }
   ],
   "source": [
    "lm.fit = lm(Grad.Rate~., traindata)\n",
    "summary(lm.fit)"
   ]
  },
  {
   "cell_type": "markdown",
   "metadata": {},
   "source": [
    "## optimized to most significant predictors"
   ]
  },
  {
   "cell_type": "code",
   "execution_count": 54,
   "metadata": {},
   "outputs": [
    {
     "data": {
      "text/plain": [
       "\n",
       "Call:\n",
       "lm(formula = Grad.Rate ~ Private + Apps + Top25perc + P.Undergrad + \n",
       "    Outstate + Room.Board + Personal + perc.alumni + Expend, \n",
       "    data = traindata)\n",
       "\n",
       "Residuals:\n",
       "    Min      1Q  Median      3Q     Max \n",
       "-53.171  -6.496   0.003   7.050  51.071 \n",
       "\n",
       "Coefficients:\n",
       "              Estimate Std. Error t value Pr(>|t|)    \n",
       "(Intercept) 31.6530560  3.0033771  10.539  < 2e-16 ***\n",
       "PrivateYes   2.3611879  1.7781956   1.328 0.184794    \n",
       "Apps         0.0007028  0.0001765   3.981 7.82e-05 ***\n",
       "Top25perc    0.2095604  0.0349557   5.995 3.75e-09 ***\n",
       "P.Undergrad -0.0018239  0.0005437  -3.355 0.000851 ***\n",
       "Outstate     0.0010138  0.0002538   3.995 7.38e-05 ***\n",
       "Room.Board   0.0020088  0.0006650   3.020 0.002645 ** \n",
       "Personal    -0.0013236  0.0008756  -1.512 0.131228    \n",
       "perc.alumni  0.2505022  0.0572773   4.373 1.47e-05 ***\n",
       "Expend      -0.0003940  0.0001509  -2.612 0.009265 ** \n",
       "---\n",
       "Signif. codes:  0 '***' 0.001 '**' 0.01 '*' 0.05 '.' 0.1 ' ' 1\n",
       "\n",
       "Residual standard error: 12.38 on 533 degrees of freedom\n",
       "Multiple R-squared:  0.4481,\tAdjusted R-squared:  0.4388 \n",
       "F-statistic: 48.08 on 9 and 533 DF,  p-value: < 2.2e-16\n"
      ]
     },
     "metadata": {},
     "output_type": "display_data"
    }
   ],
   "source": [
    "lm.fit1 = lm(Grad.Rate~Private+Apps+Top25perc+P.Undergrad+Outstate+Room.Board+Personal+perc.alumni+Expend, traindata)\n",
    "summary(lm.fit1)"
   ]
  },
  {
   "cell_type": "code",
   "execution_count": 55,
   "metadata": {},
   "outputs": [
    {
     "data": {
      "text/html": [
       "186.289768834725"
      ],
      "text/latex": [
       "186.289768834725"
      ],
      "text/markdown": [
       "186.289768834725"
      ],
      "text/plain": [
       "[1] 186.2898"
      ]
     },
     "metadata": {},
     "output_type": "display_data"
    }
   ],
   "source": [
    "lm.pred = predict(lm.fit1, newdata = testdata)\n",
    "mean((lm.pred - testoutcomes)^2)"
   ]
  },
  {
   "cell_type": "markdown",
   "metadata": {},
   "source": [
    "The mse is 182.94 the lowest out of all other models. This shows that the best model to predict the graduation rate of a school would a linear regression model optimised for the most significant predictors. "
   ]
  },
  {
   "cell_type": "markdown",
   "metadata": {},
   "source": [
    "# chapter 9 #4 \n",
    "4. Generate a simulated two-class data set with 100 observations and\n",
    "two features in which there is a visible but non-linear separation between\n",
    "the two classes. Show that in this setting, a support vector\n",
    "machine with a polynomial kernel (with degree greater than 1) or a\n",
    "radial kernel will outperform a support vector classifier on the training\n",
    "data. Which technique performs best on the test data? Make\n",
    "plots and report training and test error rates in order to back up\n",
    "your assertions."
   ]
  },
  {
   "cell_type": "code",
   "execution_count": 57,
   "metadata": {},
   "outputs": [
    {
     "name": "stderr",
     "output_type": "stream",
     "text": [
      "Warning message:\n",
      "\"package 'e1071' is in use and will not be installed\""
     ]
    }
   ],
   "source": [
    "install.packages(\"e1071\", repos = \"https://cran.r-project.org/\")\n",
    "require(e1071)"
   ]
  },
  {
   "cell_type": "markdown",
   "metadata": {},
   "source": [
    "## Creating Data frame with a random 100 obs. with non linear predictors"
   ]
  },
  {
   "cell_type": "code",
   "execution_count": 58,
   "metadata": {},
   "outputs": [],
   "source": [
    "set.seed(1)\n",
    "x = matrix(rnorm(200), ncol =2)\n",
    "x[1:40, ] = x[1:40, ] + 2\n",
    "x[41:75, ] = x[41:75, ] - 2\n",
    "y = c(rep(1,75), rep(2,25))\n",
    "df= data.frame(x = x, y = as.factor(y))"
   ]
  },
  {
   "cell_type": "markdown",
   "metadata": {},
   "source": [
    "## Train Test Split w/ a radial based model plot on the data"
   ]
  },
  {
   "cell_type": "code",
   "execution_count": 62,
   "metadata": {},
   "outputs": [
    {
     "data": {
      "image/png": "[encoded data removed]",
      "text/plain": [
       "Plot with title \"SVM classification plot\""
      ]
     },
     "metadata": {},
     "output_type": "display_data"
    }
   ],
   "source": [
    "train = sample(100, 50)\n",
    "test = -train\n",
    "svmfit = svm(y~.,data = df[train,], kernel = 'radial', gamma = 1, cost =1)\n",
    "plot(svmfit, df[train,])"
   ]
  },
  {
   "cell_type": "markdown",
   "metadata": {},
   "source": [
    "## tune model and use best radial model for prediction"
   ]
  },
  {
   "cell_type": "code",
   "execution_count": 60,
   "metadata": {},
   "outputs": [
    {
     "data": {
      "image/png": "[encoded data removed]",
      "text/plain": [
       "Plot with title \"SVM classification plot\""
      ]
     },
     "metadata": {},
     "output_type": "display_data"
    }
   ],
   "source": [
    "tune.mod = tune(svm, y~.,data = df[train,], kernel = 'radial',\n",
    "                ranges = list(cost = c(0.1,1,10,100,1000),\n",
    "                              gamma = c(0.5,1,2,3,4)))\n",
    "\n",
    "best.mod = tune.mod$best.model\n",
    "plot(best.mod, df[train,])"
   ]
  },
  {
   "cell_type": "markdown",
   "metadata": {},
   "source": [
    "## train/ test tables for radial model"
   ]
  },
  {
   "cell_type": "code",
   "execution_count": 67,
   "metadata": {},
   "outputs": [
    {
     "name": "stdout",
     "output_type": "stream",
     "text": [
      "[1] \"Train table\"\n"
     ]
    },
    {
     "data": {
      "text/plain": [
       "    pred\n",
       "true  1  2\n",
       "   1 28  9\n",
       "   2  8  5"
      ]
     },
     "metadata": {},
     "output_type": "display_data"
    },
    {
     "data": {
      "text/html": [
       "0.66"
      ],
      "text/latex": [
       "0.66"
      ],
      "text/markdown": [
       "0.66"
      ],
      "text/plain": [
       "[1] 0.66"
      ]
     },
     "metadata": {},
     "output_type": "display_data"
    },
    {
     "name": "stdout",
     "output_type": "stream",
     "text": [
      "[1] \"Test table\"\n"
     ]
    },
    {
     "data": {
      "text/plain": [
       "    pred\n",
       "true  1  2\n",
       "   1 26 12\n",
       "   2 10  2"
      ]
     },
     "metadata": {},
     "output_type": "display_data"
    },
    {
     "data": {
      "text/html": [
       "0.56"
      ],
      "text/latex": [
       "0.56"
      ],
      "text/markdown": [
       "0.56"
      ],
      "text/plain": [
       "[1] 0.56"
      ]
     },
     "metadata": {},
     "output_type": "display_data"
    }
   ],
   "source": [
    "print(\"Train table\")\n",
    "table(true = df[train,\"y\"],pred= predict(best.mod, news= df[train, ]))\n",
    "(28+5)/(8+9+28+5)\n",
    "print(\"Test table\")\n",
    "table(true = df[test,\"y\"],pred= predict(best.mod, news= df[test, ]))\n",
    "(26+2)/(10+12+26+2)"
   ]
  },
  {
   "cell_type": "markdown",
   "metadata": {},
   "source": [
    "## linear fit for data"
   ]
  },
  {
   "cell_type": "code",
   "execution_count": 64,
   "metadata": {},
   "outputs": [
    {
     "data": {
      "image/png": "[encoded data removed]",
      "text/plain": [
       "Plot with title \"SVM classification plot\""
      ]
     },
     "metadata": {},
     "output_type": "display_data"
    }
   ],
   "source": [
    "svm.linear.fit = svm(y~.,data= df[train,], kernel =\"linear\", cost = 10, scale = FALSE)\n",
    "plot(svm.linear.fit, df[train,])"
   ]
  },
  {
   "cell_type": "markdown",
   "metadata": {},
   "source": [
    "## tune linear model"
   ]
  },
  {
   "cell_type": "code",
   "execution_count": 65,
   "metadata": {},
   "outputs": [
    {
     "data": {
      "image/png": "[encoded data removed]",
      "text/plain": [
       "Plot with title \"SVM classification plot\""
      ]
     },
     "metadata": {},
     "output_type": "display_data"
    }
   ],
   "source": [
    "tune.out = tune(svm, y~.,data = df[train,], kernel = \"linear\", ranges = list(c(0.001,0.01,0.1,1,5,10,100)))\n",
    "best.linear.model = tune.out$best.model\n",
    "plot(best.linear.model, df[train,])"
   ]
  },
  {
   "cell_type": "markdown",
   "metadata": {},
   "source": [
    "## train/ test tables for linear model"
   ]
  },
  {
   "cell_type": "code",
   "execution_count": 66,
   "metadata": {},
   "outputs": [
    {
     "name": "stdout",
     "output_type": "stream",
     "text": [
      "[1] \"Train table\"\n"
     ]
    },
    {
     "data": {
      "text/plain": [
       "    pred\n",
       "true  1  2\n",
       "   1 37  0\n",
       "   2 13  0"
      ]
     },
     "metadata": {},
     "output_type": "display_data"
    },
    {
     "name": "stdout",
     "output_type": "stream",
     "text": [
      "[1] \"Test table\"\n"
     ]
    },
    {
     "data": {
      "text/plain": [
       "    pred\n",
       "true  1  2\n",
       "   1 38  0\n",
       "   2 12  0"
      ]
     },
     "metadata": {},
     "output_type": "display_data"
    }
   ],
   "source": [
    "print(\"Train table\")\n",
    "table(true = df[train,\"y\"],pred= predict(best.linear.model, news= df[train, ]))\n",
    "print(\"Test table\")\n",
    "table(true = df[test,\"y\"],pred= predict(best.linear.model, news= df[test, ]))"
   ]
  },
  {
   "cell_type": "markdown",
   "metadata": {},
   "source": [
    "the best approach for this non linear data is to use the radial approach because the linear method predicts that all data points are 1 whereas the radial method classifies it correctly 56% of the time."
   ]
  },
  {
   "cell_type": "code",
   "execution_count": null,
   "metadata": {},
   "outputs": [],
   "source": []
  }
 ],
 "metadata": {
  "kernelspec": {
   "display_name": "R",
   "language": "R",
   "name": "ir"
  },
  "language_info": {
   "codemirror_mode": "r",
   "file_extension": ".r",
   "mimetype": "text/x-r-source",
   "name": "R",
   "pygments_lexer": "r",
   "version": "3.5.1"
  }
 },
 "nbformat": 4,
 "nbformat_minor": 2
}
