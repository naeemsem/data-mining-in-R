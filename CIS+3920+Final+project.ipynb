{
 "cells": [
  {
   "cell_type": "code",
   "execution_count": 5,
   "metadata": {},
   "outputs": [
    {
     "name": "stdout",
     "output_type": "stream",
     "text": [
      "package 'leaps' successfully unpacked and MD5 sums checked\n"
     ]
    },
    {
     "name": "stderr",
     "output_type": "stream",
     "text": [
      "Warning message:\n",
      "\"cannot remove prior installation of package 'leaps'\""
     ]
    },
    {
     "name": "stdout",
     "output_type": "stream",
     "text": [
      "\n",
      "The downloaded binary packages are in\n",
      "\tC:\\Users\\Naeem\\AppData\\Local\\Temp\\Rtmpuy2Nwd\\downloaded_packages\n",
      "package 'gbm' successfully unpacked and MD5 sums checked\n"
     ]
    },
    {
     "name": "stderr",
     "output_type": "stream",
     "text": [
      "Warning message:\n",
      "\"cannot remove prior installation of package 'gbm'\""
     ]
    },
    {
     "name": "stdout",
     "output_type": "stream",
     "text": [
      "\n",
      "The downloaded binary packages are in\n",
      "\tC:\\Users\\Naeem\\AppData\\Local\\Temp\\Rtmpuy2Nwd\\downloaded_packages\n",
      "package 'data.table' successfully unpacked and MD5 sums checked\n"
     ]
    },
    {
     "name": "stderr",
     "output_type": "stream",
     "text": [
      "Warning message:\n",
      "\"cannot remove prior installation of package 'data.table'\""
     ]
    },
    {
     "name": "stdout",
     "output_type": "stream",
     "text": [
      "\n",
      "The downloaded binary packages are in\n",
      "\tC:\\Users\\Naeem\\AppData\\Local\\Temp\\Rtmpuy2Nwd\\downloaded_packages\n"
     ]
    },
    {
     "name": "stderr",
     "output_type": "stream",
     "text": [
      "also installing the dependency 'data.table'\n",
      "\n"
     ]
    },
    {
     "name": "stdout",
     "output_type": "stream",
     "text": [
      "package 'data.table' successfully unpacked and MD5 sums checked\n"
     ]
    },
    {
     "name": "stderr",
     "output_type": "stream",
     "text": [
      "Warning message:\n",
      "\"cannot remove prior installation of package 'data.table'\""
     ]
    },
    {
     "name": "stdout",
     "output_type": "stream",
     "text": [
      "package 'xgboost' successfully unpacked and MD5 sums checked\n"
     ]
    },
    {
     "name": "stderr",
     "output_type": "stream",
     "text": [
      "Warning message:\n",
      "\"cannot remove prior installation of package 'xgboost'\""
     ]
    },
    {
     "name": "stdout",
     "output_type": "stream",
     "text": [
      "\n",
      "The downloaded binary packages are in\n",
      "\tC:\\Users\\Naeem\\AppData\\Local\\Temp\\Rtmpuy2Nwd\\downloaded_packages\n",
      "package 'Matrix' successfully unpacked and MD5 sums checked\n"
     ]
    },
    {
     "name": "stderr",
     "output_type": "stream",
     "text": [
      "Warning message:\n",
      "\"cannot remove prior installation of package 'Matrix'\""
     ]
    },
    {
     "name": "stdout",
     "output_type": "stream",
     "text": [
      "\n",
      "The downloaded binary packages are in\n",
      "\tC:\\Users\\Naeem\\AppData\\Local\\Temp\\Rtmpuy2Nwd\\downloaded_packages\n"
     ]
    }
   ],
   "source": [
    "install.packages(\"leaps\", repos = \"http://cran.us.r-project.org\")\n",
    "install.packages(\"gbm\", repos = \"http://cran.us.r-project.org\")\n",
    "install.packages(\"data.table\", repos = \"http://cran.us.r-project.org\")\n",
    "install.packages(\"xgboost\", repos = \"http://cran.us.r-project.org\")\n",
    "install.packages(\"Matrix\", repos = \"http://cran.us.r-project.org\")"
   ]
  },
  {
   "cell_type": "code",
   "execution_count": 4,
   "metadata": {},
   "outputs": [
    {
     "ename": "ERROR",
     "evalue": "Error in library(leaps): there is no package called 'leaps'\n",
     "output_type": "error",
     "traceback": [
      "Error in library(leaps): there is no package called 'leaps'\nTraceback:\n",
      "1. library(leaps)",
      "2. stop(txt, domain = NA)"
     ]
    }
   ],
   "source": [
    "library(leaps)\n",
    "library(data.table)\n",
    "library(gbm)\n",
    "library(xgboost)\n",
    "library(Matrix)"
   ]
  },
  {
   "cell_type": "code",
   "execution_count": 3,
   "metadata": {},
   "outputs": [
    {
     "ename": "ERROR",
     "evalue": "Error in fread(\"train.csv\"): could not find function \"fread\"\n",
     "output_type": "error",
     "traceback": [
      "Error in fread(\"train.csv\"): could not find function \"fread\"\nTraceback:\n"
     ]
    }
   ],
   "source": [
    "train.set = fread(\"train.csv\")\n",
    "train.set = na.omit(train.set)\n",
    "# train test split\n",
    "set.seed(100)\n",
    "nobs = dim(train.set)[1]\n",
    "split  = 0.7 ## 70/30 split of datatset\n",
    "train = sample(1:nobs, split*1000, rep = FALSE )\n",
    "test = -train\n",
    "traindata = train.set[train,]\n",
    "testdata = train.set[test,]\n",
    "testoutcomes = train.set$target[test]\n",
    "traindata$ID_code = NULL\n",
    "testdata$ID_code = NULL"
   ]
  },
  {
   "cell_type": "code",
   "execution_count": 57,
   "metadata": {},
   "outputs": [],
   "source": [
    "train.data = sparse.model.matrix(target~.-1,data = traindata)\n",
    "train.label = traindata[,\"target\"]\n",
    "dtrain <- xgb.DMatrix(data = train.data, label = as.matrix(train.label))\n",
    "test.data = sparse.model.matrix(target~.-1,data = testdata)\n",
    "test.label = testdata[,\"target\"]\n",
    "dtest <- xgb.DMatrix(data = test.data, label = as.matrix(test.label))\n",
    "#bstSparse <- xgboost(data = dtrain, max.depth = 5, eta = 1, nthread = 2, nrounds = 2, objective = \"binary:logistic\"\n",
    "xgb_params = list(\"objective\" = \"binary:logistic\", \n",
    "                  \"eval_metric\" = \"logloss\",\n",
    "                  \"max_depth\" = 4,\n",
    "                  \"eta\" = 0.05)\n",
    "sets <- list(train = dtrain, test = dtest)"
   ]
  },
  {
   "cell_type": "code",
   "execution_count": 58,
   "metadata": {},
   "outputs": [
    {
     "name": "stdout",
     "output_type": "stream",
     "text": [
      "[1]\ttrain-logloss:0.655398\ttest-logloss:0.659705 \n",
      "[2]\ttrain-logloss:0.619720\ttest-logloss:0.630061 \n",
      "[3]\ttrain-logloss:0.588219\ttest-logloss:0.603322 \n",
      "[4]\ttrain-logloss:0.558311\ttest-logloss:0.578928 \n",
      "[5]\ttrain-logloss:0.531960\ttest-logloss:0.556688 \n",
      "[6]\ttrain-logloss:0.506514\ttest-logloss:0.536534 \n",
      "[7]\ttrain-logloss:0.483322\ttest-logloss:0.517401 \n",
      "[8]\ttrain-logloss:0.462432\ttest-logloss:0.500524 \n",
      "[9]\ttrain-logloss:0.442409\ttest-logloss:0.484308 \n",
      "[10]\ttrain-logloss:0.423487\ttest-logloss:0.470178 \n",
      "[11]\ttrain-logloss:0.405890\ttest-logloss:0.457105 \n",
      "[12]\ttrain-logloss:0.389330\ttest-logloss:0.445655 \n",
      "[13]\ttrain-logloss:0.374734\ttest-logloss:0.434352 \n",
      "[14]\ttrain-logloss:0.360493\ttest-logloss:0.424183 \n",
      "[15]\ttrain-logloss:0.346551\ttest-logloss:0.414768 \n",
      "[16]\ttrain-logloss:0.333515\ttest-logloss:0.406188 \n",
      "[17]\ttrain-logloss:0.321254\ttest-logloss:0.398251 \n",
      "[18]\ttrain-logloss:0.309246\ttest-logloss:0.390923 \n",
      "[19]\ttrain-logloss:0.298451\ttest-logloss:0.384495 \n",
      "[20]\ttrain-logloss:0.287795\ttest-logloss:0.378084 \n",
      "[21]\ttrain-logloss:0.277848\ttest-logloss:0.372010 \n",
      "[22]\ttrain-logloss:0.268358\ttest-logloss:0.366793 \n",
      "[23]\ttrain-logloss:0.259672\ttest-logloss:0.362265 \n",
      "[24]\ttrain-logloss:0.251448\ttest-logloss:0.357569 \n",
      "[25]\ttrain-logloss:0.243604\ttest-logloss:0.353639 \n",
      "[26]\ttrain-logloss:0.235904\ttest-logloss:0.349868 \n",
      "[27]\ttrain-logloss:0.228105\ttest-logloss:0.346060 \n",
      "[28]\ttrain-logloss:0.221154\ttest-logloss:0.342735 \n",
      "[29]\ttrain-logloss:0.214800\ttest-logloss:0.340014 \n",
      "[30]\ttrain-logloss:0.208717\ttest-logloss:0.337464 \n",
      "[31]\ttrain-logloss:0.202196\ttest-logloss:0.335054 \n",
      "[32]\ttrain-logloss:0.196394\ttest-logloss:0.332706 \n",
      "[33]\ttrain-logloss:0.191250\ttest-logloss:0.330401 \n",
      "[34]\ttrain-logloss:0.185563\ttest-logloss:0.328589 \n",
      "[35]\ttrain-logloss:0.180775\ttest-logloss:0.327130 \n",
      "[36]\ttrain-logloss:0.175976\ttest-logloss:0.325631 \n",
      "[37]\ttrain-logloss:0.171692\ttest-logloss:0.324453 \n",
      "[38]\ttrain-logloss:0.167550\ttest-logloss:0.323101 \n",
      "[39]\ttrain-logloss:0.163338\ttest-logloss:0.321777 \n",
      "[40]\ttrain-logloss:0.158959\ttest-logloss:0.320803 \n",
      "[41]\ttrain-logloss:0.154897\ttest-logloss:0.319930 \n",
      "[42]\ttrain-logloss:0.151167\ttest-logloss:0.319147 \n",
      "[43]\ttrain-logloss:0.147832\ttest-logloss:0.318597 \n",
      "[44]\ttrain-logloss:0.144139\ttest-logloss:0.318028 \n",
      "[45]\ttrain-logloss:0.140573\ttest-logloss:0.317609 \n",
      "[46]\ttrain-logloss:0.137377\ttest-logloss:0.317297 \n",
      "[47]\ttrain-logloss:0.134552\ttest-logloss:0.317001 \n",
      "[48]\ttrain-logloss:0.131537\ttest-logloss:0.316950 \n",
      "[49]\ttrain-logloss:0.129003\ttest-logloss:0.316743 \n",
      "[50]\ttrain-logloss:0.126132\ttest-logloss:0.316511 \n",
      "[51]\ttrain-logloss:0.123081\ttest-logloss:0.316392 \n",
      "[52]\ttrain-logloss:0.120339\ttest-logloss:0.316283 \n",
      "[53]\ttrain-logloss:0.117375\ttest-logloss:0.316101 \n",
      "[54]\ttrain-logloss:0.115236\ttest-logloss:0.316132 \n",
      "[55]\ttrain-logloss:0.112784\ttest-logloss:0.316082 \n",
      "[56]\ttrain-logloss:0.110155\ttest-logloss:0.316173 \n",
      "[57]\ttrain-logloss:0.107843\ttest-logloss:0.316546 \n",
      "[58]\ttrain-logloss:0.105552\ttest-logloss:0.316832 \n",
      "[59]\ttrain-logloss:0.103092\ttest-logloss:0.316836 \n",
      "[60]\ttrain-logloss:0.100534\ttest-logloss:0.317230 \n",
      "[61]\ttrain-logloss:0.098192\ttest-logloss:0.317565 \n",
      "[62]\ttrain-logloss:0.096659\ttest-logloss:0.317860 \n",
      "[63]\ttrain-logloss:0.094747\ttest-logloss:0.318291 \n",
      "[64]\ttrain-logloss:0.092470\ttest-logloss:0.318831 \n",
      "[65]\ttrain-logloss:0.091068\ttest-logloss:0.319184 \n",
      "[66]\ttrain-logloss:0.088946\ttest-logloss:0.319664 \n",
      "[67]\ttrain-logloss:0.087092\ttest-logloss:0.320292 \n",
      "[68]\ttrain-logloss:0.085798\ttest-logloss:0.320710 \n",
      "[69]\ttrain-logloss:0.084000\ttest-logloss:0.321121 \n",
      "[70]\ttrain-logloss:0.082252\ttest-logloss:0.321616 \n",
      "[71]\ttrain-logloss:0.080730\ttest-logloss:0.322143 \n",
      "[72]\ttrain-logloss:0.079204\ttest-logloss:0.322731 \n",
      "[73]\ttrain-logloss:0.077661\ttest-logloss:0.323462 \n",
      "[74]\ttrain-logloss:0.075802\ttest-logloss:0.323888 \n",
      "[75]\ttrain-logloss:0.074478\ttest-logloss:0.324546 \n",
      "[76]\ttrain-logloss:0.073160\ttest-logloss:0.325101 \n",
      "[77]\ttrain-logloss:0.071854\ttest-logloss:0.325654 \n",
      "[78]\ttrain-logloss:0.070478\ttest-logloss:0.326423 \n",
      "[79]\ttrain-logloss:0.068977\ttest-logloss:0.327033 \n",
      "[80]\ttrain-logloss:0.067798\ttest-logloss:0.327762 \n",
      "[81]\ttrain-logloss:0.066552\ttest-logloss:0.328687 \n",
      "[82]\ttrain-logloss:0.065195\ttest-logloss:0.329348 \n",
      "[83]\ttrain-logloss:0.064131\ttest-logloss:0.330145 \n",
      "[84]\ttrain-logloss:0.062870\ttest-logloss:0.330819 \n",
      "[85]\ttrain-logloss:0.061642\ttest-logloss:0.331501 \n",
      "[86]\ttrain-logloss:0.060623\ttest-logloss:0.332035 \n",
      "[87]\ttrain-logloss:0.059495\ttest-logloss:0.332817 \n",
      "[88]\ttrain-logloss:0.058583\ttest-logloss:0.333014 \n",
      "[89]\ttrain-logloss:0.057634\ttest-logloss:0.333872 \n",
      "[90]\ttrain-logloss:0.056576\ttest-logloss:0.334657 \n",
      "[91]\ttrain-logloss:0.055417\ttest-logloss:0.335381 \n",
      "[92]\ttrain-logloss:0.054366\ttest-logloss:0.336149 \n",
      "[93]\ttrain-logloss:0.053255\ttest-logloss:0.336883 \n",
      "[94]\ttrain-logloss:0.052145\ttest-logloss:0.337729 \n",
      "[95]\ttrain-logloss:0.051360\ttest-logloss:0.338635 \n",
      "[96]\ttrain-logloss:0.050499\ttest-logloss:0.339631 \n",
      "[97]\ttrain-logloss:0.049720\ttest-logloss:0.340450 \n",
      "[98]\ttrain-logloss:0.048703\ttest-logloss:0.341114 \n",
      "[99]\ttrain-logloss:0.047698\ttest-logloss:0.342046 \n",
      "[100]\ttrain-logloss:0.046825\ttest-logloss:0.342752 \n"
     ]
    }
   ],
   "source": [
    "xgmodel = xgb.train(params = xgb_params,\n",
    "                   data = dtrain,\n",
    "                   nrounds = 100,\n",
    "                   watchlist = sets)"
   ]
  },
  {
   "cell_type": "code",
   "execution_count": 61,
   "metadata": {},
   "outputs": [
    {
     "data": {
      "text/html": [],
      "text/latex": [],
      "text/markdown": [],
      "text/plain": [
       "integer(0)"
      ]
     },
     "metadata": {},
     "output_type": "display_data"
    },
    {
     "name": "stderr",
     "output_type": "stream",
     "text": [
      "Warning message in min(xgmodel$evaluation_log$test_mlogloss):\n",
      "\"no non-missing arguments to min; returning Inf\""
     ]
    },
    {
     "data": {
      "text/html": [
       "Inf"
      ],
      "text/latex": [
       "Inf"
      ],
      "text/markdown": [
       "Inf"
      ],
      "text/plain": [
       "[1] Inf"
      ]
     },
     "metadata": {},
     "output_type": "display_data"
    },
    {
     "data": {
      "image/png": "[encoded data removed]",
      "text/plain": [
       "plot without title"
      ]
     },
     "metadata": {},
     "output_type": "display_data"
    }
   ],
   "source": [
    "#plot(xgmodel$evaluation_log$iter, xgmodel$evaluation_log$train_mlogloss, col = 'blue')\n",
    "plot(xgmodel$evaluation_log$iter, xgmodel$evaluation_log$test_mlogloss, col = 'red')\n",
    "which.min(xgmodel$evaluation_log$test_mlogloss)\n",
    "min(xgmodel$evaluation_log$test_mlogloss)\n"
   ]
  },
  {
   "cell_type": "code",
   "execution_count": 40,
   "metadata": {},
   "outputs": [
    {
     "name": "stdout",
     "output_type": "stream",
     "text": [
      "[1]\ttrain-mlogloss:0.684928\ttest-mlogloss:0.686377 \n",
      "[2]\ttrain-mlogloss:0.676662\ttest-mlogloss:0.679774 \n",
      "[3]\ttrain-mlogloss:0.668828\ttest-mlogloss:0.673263 \n",
      "[4]\ttrain-mlogloss:0.660861\ttest-mlogloss:0.666960 \n",
      "[5]\ttrain-mlogloss:0.653287\ttest-mlogloss:0.660733 \n",
      "[6]\ttrain-mlogloss:0.645603\ttest-mlogloss:0.654665 \n",
      "[7]\ttrain-mlogloss:0.638061\ttest-mlogloss:0.648752 \n",
      "[8]\ttrain-mlogloss:0.630659\ttest-mlogloss:0.642943 \n",
      "[9]\ttrain-mlogloss:0.623628\ttest-mlogloss:0.637188 \n",
      "[10]\ttrain-mlogloss:0.616480\ttest-mlogloss:0.631620 \n",
      "[11]\ttrain-mlogloss:0.609693\ttest-mlogloss:0.626011 \n",
      "[12]\ttrain-mlogloss:0.602787\ttest-mlogloss:0.620651 \n",
      "[13]\ttrain-mlogloss:0.596005\ttest-mlogloss:0.615393 \n",
      "[14]\ttrain-mlogloss:0.589506\ttest-mlogloss:0.610168 \n",
      "[15]\ttrain-mlogloss:0.582948\ttest-mlogloss:0.605140 \n",
      "[16]\ttrain-mlogloss:0.576505\ttest-mlogloss:0.600189 \n",
      "[17]\ttrain-mlogloss:0.570323\ttest-mlogloss:0.595241 \n",
      "[18]\ttrain-mlogloss:0.564088\ttest-mlogloss:0.590478 \n",
      "[19]\ttrain-mlogloss:0.558001\ttest-mlogloss:0.585571 \n",
      "[20]\ttrain-mlogloss:0.551970\ttest-mlogloss:0.581020 \n",
      "[21]\ttrain-mlogloss:0.546034\ttest-mlogloss:0.576569 \n",
      "[22]\ttrain-mlogloss:0.540236\ttest-mlogloss:0.571938 \n",
      "[23]\ttrain-mlogloss:0.534494\ttest-mlogloss:0.567608 \n",
      "[24]\ttrain-mlogloss:0.528880\ttest-mlogloss:0.563156 \n",
      "[25]\ttrain-mlogloss:0.523306\ttest-mlogloss:0.558993 \n",
      "[26]\ttrain-mlogloss:0.517869\ttest-mlogloss:0.554642 \n",
      "[27]\ttrain-mlogloss:0.512477\ttest-mlogloss:0.550601 \n",
      "[28]\ttrain-mlogloss:0.507161\ttest-mlogloss:0.546672 \n",
      "[29]\ttrain-mlogloss:0.501950\ttest-mlogloss:0.542568 \n",
      "[30]\ttrain-mlogloss:0.496944\ttest-mlogloss:0.538689 \n",
      "[31]\ttrain-mlogloss:0.491872\ttest-mlogloss:0.534937 \n",
      "[32]\ttrain-mlogloss:0.486869\ttest-mlogloss:0.531278 \n",
      "[33]\ttrain-mlogloss:0.482085\ttest-mlogloss:0.527618 \n",
      "[34]\ttrain-mlogloss:0.477230\ttest-mlogloss:0.524073 \n",
      "[35]\ttrain-mlogloss:0.472550\ttest-mlogloss:0.520530 \n",
      "[36]\ttrain-mlogloss:0.467843\ttest-mlogloss:0.517120 \n",
      "[37]\ttrain-mlogloss:0.463336\ttest-mlogloss:0.513691 \n",
      "[38]\ttrain-mlogloss:0.458756\ttest-mlogloss:0.510391 \n",
      "[39]\ttrain-mlogloss:0.454345\ttest-mlogloss:0.507071 \n",
      "[40]\ttrain-mlogloss:0.449902\ttest-mlogloss:0.503931 \n",
      "[41]\ttrain-mlogloss:0.445652\ttest-mlogloss:0.500752 \n",
      "[42]\ttrain-mlogloss:0.441431\ttest-mlogloss:0.497624 \n",
      "[43]\ttrain-mlogloss:0.436935\ttest-mlogloss:0.494566 \n",
      "[44]\ttrain-mlogloss:0.432730\ttest-mlogloss:0.491589 \n",
      "[45]\ttrain-mlogloss:0.428719\ttest-mlogloss:0.488624 \n",
      "[46]\ttrain-mlogloss:0.424711\ttest-mlogloss:0.485609 \n",
      "[47]\ttrain-mlogloss:0.420344\ttest-mlogloss:0.482683 \n",
      "[48]\ttrain-mlogloss:0.416147\ttest-mlogloss:0.479907 \n",
      "[49]\ttrain-mlogloss:0.411901\ttest-mlogloss:0.477066 \n",
      "[50]\ttrain-mlogloss:0.408114\ttest-mlogloss:0.474266 \n",
      "[1]\ttrain-mlogloss:0.652860\ttest-mlogloss:0.660108 \n",
      "[2]\ttrain-mlogloss:0.615126\ttest-mlogloss:0.630473 \n",
      "[3]\ttrain-mlogloss:0.580770\ttest-mlogloss:0.603985 \n",
      "[4]\ttrain-mlogloss:0.550072\ttest-mlogloss:0.579588 \n",
      "[5]\ttrain-mlogloss:0.521049\ttest-mlogloss:0.557764 \n",
      "[6]\ttrain-mlogloss:0.494471\ttest-mlogloss:0.536755 \n",
      "[7]\ttrain-mlogloss:0.469674\ttest-mlogloss:0.518702 \n",
      "[8]\ttrain-mlogloss:0.447417\ttest-mlogloss:0.501869 \n",
      "[9]\ttrain-mlogloss:0.424916\ttest-mlogloss:0.486632 \n",
      "[10]\ttrain-mlogloss:0.405469\ttest-mlogloss:0.472188 \n",
      "[11]\ttrain-mlogloss:0.386969\ttest-mlogloss:0.459015 \n",
      "[12]\ttrain-mlogloss:0.369261\ttest-mlogloss:0.447308 \n",
      "[13]\ttrain-mlogloss:0.352170\ttest-mlogloss:0.436025 \n",
      "[14]\ttrain-mlogloss:0.335732\ttest-mlogloss:0.425630 \n",
      "[15]\ttrain-mlogloss:0.320817\ttest-mlogloss:0.416828 \n",
      "[16]\ttrain-mlogloss:0.307509\ttest-mlogloss:0.407896 \n",
      "[17]\ttrain-mlogloss:0.293832\ttest-mlogloss:0.399849 \n",
      "[18]\ttrain-mlogloss:0.280946\ttest-mlogloss:0.392140 \n",
      "[19]\ttrain-mlogloss:0.269294\ttest-mlogloss:0.384843 \n",
      "[20]\ttrain-mlogloss:0.257620\ttest-mlogloss:0.378330 \n",
      "[21]\ttrain-mlogloss:0.246458\ttest-mlogloss:0.372330 \n",
      "[22]\ttrain-mlogloss:0.236105\ttest-mlogloss:0.366803 \n",
      "[23]\ttrain-mlogloss:0.226213\ttest-mlogloss:0.361935 \n",
      "[24]\ttrain-mlogloss:0.216898\ttest-mlogloss:0.357213 \n",
      "[25]\ttrain-mlogloss:0.207881\ttest-mlogloss:0.352988 \n",
      "[26]\ttrain-mlogloss:0.199507\ttest-mlogloss:0.349372 \n",
      "[27]\ttrain-mlogloss:0.191638\ttest-mlogloss:0.346171 \n",
      "[28]\ttrain-mlogloss:0.184085\ttest-mlogloss:0.343046 \n",
      "[29]\ttrain-mlogloss:0.176998\ttest-mlogloss:0.339940 \n",
      "[30]\ttrain-mlogloss:0.170417\ttest-mlogloss:0.337729 \n",
      "[31]\ttrain-mlogloss:0.163779\ttest-mlogloss:0.335389 \n",
      "[32]\ttrain-mlogloss:0.156980\ttest-mlogloss:0.333181 \n",
      "[33]\ttrain-mlogloss:0.151707\ttest-mlogloss:0.331386 \n",
      "[34]\ttrain-mlogloss:0.146083\ttest-mlogloss:0.329691 \n",
      "[35]\ttrain-mlogloss:0.140408\ttest-mlogloss:0.328213 \n",
      "[36]\ttrain-mlogloss:0.134855\ttest-mlogloss:0.326808 \n",
      "[37]\ttrain-mlogloss:0.129964\ttest-mlogloss:0.325765 \n",
      "[38]\ttrain-mlogloss:0.125568\ttest-mlogloss:0.325201 \n",
      "[39]\ttrain-mlogloss:0.120633\ttest-mlogloss:0.324241 \n",
      "[40]\ttrain-mlogloss:0.115971\ttest-mlogloss:0.323460 \n",
      "[41]\ttrain-mlogloss:0.112078\ttest-mlogloss:0.323360 \n",
      "[42]\ttrain-mlogloss:0.107948\ttest-mlogloss:0.322840 \n",
      "[43]\ttrain-mlogloss:0.104028\ttest-mlogloss:0.322447 \n",
      "[44]\ttrain-mlogloss:0.100588\ttest-mlogloss:0.322206 \n",
      "[45]\ttrain-mlogloss:0.096840\ttest-mlogloss:0.322202 \n",
      "[46]\ttrain-mlogloss:0.093637\ttest-mlogloss:0.322272 \n",
      "[47]\ttrain-mlogloss:0.090354\ttest-mlogloss:0.322500 \n",
      "[48]\ttrain-mlogloss:0.087088\ttest-mlogloss:0.322620 \n",
      "[49]\ttrain-mlogloss:0.084380\ttest-mlogloss:0.322847 \n",
      "[50]\ttrain-mlogloss:0.081533\ttest-mlogloss:0.323057 \n",
      "[1]\ttrain-mlogloss:0.614591\ttest-mlogloss:0.629094 \n",
      "[2]\ttrain-mlogloss:0.547241\ttest-mlogloss:0.577442 \n",
      "[3]\ttrain-mlogloss:0.490917\ttest-mlogloss:0.535543 \n",
      "[4]\ttrain-mlogloss:0.443118\ttest-mlogloss:0.498900 \n",
      "[5]\ttrain-mlogloss:0.403219\ttest-mlogloss:0.469666 \n",
      "[6]\ttrain-mlogloss:0.364754\ttest-mlogloss:0.445049 \n",
      "[7]\ttrain-mlogloss:0.331827\ttest-mlogloss:0.423473 \n",
      "[8]\ttrain-mlogloss:0.304528\ttest-mlogloss:0.405084 \n",
      "[9]\ttrain-mlogloss:0.277968\ttest-mlogloss:0.390173 \n",
      "[10]\ttrain-mlogloss:0.254990\ttest-mlogloss:0.376985 \n",
      "[11]\ttrain-mlogloss:0.234982\ttest-mlogloss:0.366341 \n",
      "[12]\ttrain-mlogloss:0.216722\ttest-mlogloss:0.356686 \n",
      "[13]\ttrain-mlogloss:0.199719\ttest-mlogloss:0.349688 \n",
      "[14]\ttrain-mlogloss:0.183390\ttest-mlogloss:0.343002 \n",
      "[15]\ttrain-mlogloss:0.169169\ttest-mlogloss:0.337355 \n",
      "[16]\ttrain-mlogloss:0.157109\ttest-mlogloss:0.334131 \n",
      "[17]\ttrain-mlogloss:0.144439\ttest-mlogloss:0.330477 \n",
      "[18]\ttrain-mlogloss:0.133243\ttest-mlogloss:0.327612 \n",
      "[19]\ttrain-mlogloss:0.124026\ttest-mlogloss:0.325483 \n",
      "[20]\ttrain-mlogloss:0.116045\ttest-mlogloss:0.323785 \n",
      "[21]\ttrain-mlogloss:0.108053\ttest-mlogloss:0.322894 \n",
      "[22]\ttrain-mlogloss:0.100155\ttest-mlogloss:0.322197 \n",
      "[23]\ttrain-mlogloss:0.094029\ttest-mlogloss:0.322453 \n",
      "[24]\ttrain-mlogloss:0.087847\ttest-mlogloss:0.322313 \n",
      "[25]\ttrain-mlogloss:0.082499\ttest-mlogloss:0.323766 \n",
      "[26]\ttrain-mlogloss:0.076797\ttest-mlogloss:0.324726 \n",
      "[27]\ttrain-mlogloss:0.071992\ttest-mlogloss:0.325987 \n",
      "[28]\ttrain-mlogloss:0.067934\ttest-mlogloss:0.327234 \n",
      "[29]\ttrain-mlogloss:0.063472\ttest-mlogloss:0.329193 \n",
      "[30]\ttrain-mlogloss:0.059416\ttest-mlogloss:0.330714 \n",
      "[31]\ttrain-mlogloss:0.055922\ttest-mlogloss:0.333071 \n",
      "[32]\ttrain-mlogloss:0.052350\ttest-mlogloss:0.335460 \n",
      "[33]\ttrain-mlogloss:0.048958\ttest-mlogloss:0.337966 \n",
      "[34]\ttrain-mlogloss:0.046000\ttest-mlogloss:0.339946 \n",
      "[35]\ttrain-mlogloss:0.043542\ttest-mlogloss:0.342230 \n",
      "[36]\ttrain-mlogloss:0.040843\ttest-mlogloss:0.345206 \n",
      "[37]\ttrain-mlogloss:0.038533\ttest-mlogloss:0.347562 \n",
      "[38]\ttrain-mlogloss:0.036510\ttest-mlogloss:0.349754 \n",
      "[39]\ttrain-mlogloss:0.034519\ttest-mlogloss:0.352496 \n",
      "[40]\ttrain-mlogloss:0.032671\ttest-mlogloss:0.355252 \n",
      "[41]\ttrain-mlogloss:0.031033\ttest-mlogloss:0.358502 \n",
      "[42]\ttrain-mlogloss:0.029566\ttest-mlogloss:0.360992 \n",
      "[43]\ttrain-mlogloss:0.028070\ttest-mlogloss:0.364019 \n",
      "[44]\ttrain-mlogloss:0.026664\ttest-mlogloss:0.367242 \n",
      "[45]\ttrain-mlogloss:0.025424\ttest-mlogloss:0.369796 \n",
      "[46]\ttrain-mlogloss:0.024360\ttest-mlogloss:0.372218 \n",
      "[47]\ttrain-mlogloss:0.023240\ttest-mlogloss:0.375134 \n",
      "[48]\ttrain-mlogloss:0.022156\ttest-mlogloss:0.378182 \n",
      "[49]\ttrain-mlogloss:0.021097\ttest-mlogloss:0.381574 \n",
      "[50]\ttrain-mlogloss:0.020180\ttest-mlogloss:0.385220 \n",
      "[1]\ttrain-mlogloss:0.544048\ttest-mlogloss:0.573084 \n",
      "[2]\ttrain-mlogloss:0.436621\ttest-mlogloss:0.494959 \n",
      "[3]\ttrain-mlogloss:0.359948\ttest-mlogloss:0.442530 \n",
      "[4]\ttrain-mlogloss:0.295672\ttest-mlogloss:0.404933 \n",
      "[5]\ttrain-mlogloss:0.251035\ttest-mlogloss:0.376474 \n",
      "[6]\ttrain-mlogloss:0.212039\ttest-mlogloss:0.356617 \n",
      "[7]\ttrain-mlogloss:0.179209\ttest-mlogloss:0.342103 \n",
      "[8]\ttrain-mlogloss:0.152583\ttest-mlogloss:0.332871 \n",
      "[9]\ttrain-mlogloss:0.130669\ttest-mlogloss:0.326710 \n",
      "[10]\ttrain-mlogloss:0.115099\ttest-mlogloss:0.324379 \n",
      "[11]\ttrain-mlogloss:0.099770\ttest-mlogloss:0.322876 \n",
      "[12]\ttrain-mlogloss:0.087187\ttest-mlogloss:0.324319 \n",
      "[13]\ttrain-mlogloss:0.077864\ttest-mlogloss:0.325854 \n",
      "[14]\ttrain-mlogloss:0.067779\ttest-mlogloss:0.329366 \n",
      "[15]\ttrain-mlogloss:0.059382\ttest-mlogloss:0.333245 \n",
      "[16]\ttrain-mlogloss:0.052333\ttest-mlogloss:0.336722 \n",
      "[17]\ttrain-mlogloss:0.045944\ttest-mlogloss:0.341751 \n",
      "[18]\ttrain-mlogloss:0.040639\ttest-mlogloss:0.346452 \n",
      "[19]\ttrain-mlogloss:0.036068\ttest-mlogloss:0.352229 \n",
      "[20]\ttrain-mlogloss:0.032201\ttest-mlogloss:0.357436 \n",
      "[21]\ttrain-mlogloss:0.029417\ttest-mlogloss:0.361983 \n",
      "[22]\ttrain-mlogloss:0.026958\ttest-mlogloss:0.367666 \n",
      "[23]\ttrain-mlogloss:0.024418\ttest-mlogloss:0.373428 \n",
      "[24]\ttrain-mlogloss:0.022267\ttest-mlogloss:0.379539 \n",
      "[25]\ttrain-mlogloss:0.020450\ttest-mlogloss:0.384287 \n",
      "[26]\ttrain-mlogloss:0.018734\ttest-mlogloss:0.389920 \n",
      "[27]\ttrain-mlogloss:0.017324\ttest-mlogloss:0.395556 \n",
      "[28]\ttrain-mlogloss:0.016050\ttest-mlogloss:0.401408 \n",
      "[29]\ttrain-mlogloss:0.014847\ttest-mlogloss:0.406137 \n",
      "[30]\ttrain-mlogloss:0.013885\ttest-mlogloss:0.410771 \n",
      "[31]\ttrain-mlogloss:0.013070\ttest-mlogloss:0.413711 \n",
      "[32]\ttrain-mlogloss:0.012258\ttest-mlogloss:0.419317 \n",
      "[33]\ttrain-mlogloss:0.011664\ttest-mlogloss:0.422851 \n",
      "[34]\ttrain-mlogloss:0.011061\ttest-mlogloss:0.426894 \n",
      "[35]\ttrain-mlogloss:0.010473\ttest-mlogloss:0.432328 \n",
      "[36]\ttrain-mlogloss:0.009953\ttest-mlogloss:0.436558 \n",
      "[37]\ttrain-mlogloss:0.009469\ttest-mlogloss:0.440259 \n",
      "[38]\ttrain-mlogloss:0.009043\ttest-mlogloss:0.443127 \n",
      "[39]\ttrain-mlogloss:0.008674\ttest-mlogloss:0.445206 \n",
      "[40]\ttrain-mlogloss:0.008353\ttest-mlogloss:0.448095 \n",
      "[41]\ttrain-mlogloss:0.008021\ttest-mlogloss:0.450642 \n",
      "[42]\ttrain-mlogloss:0.007747\ttest-mlogloss:0.452879 \n",
      "[43]\ttrain-mlogloss:0.007486\ttest-mlogloss:0.454549 \n",
      "[44]\ttrain-mlogloss:0.007227\ttest-mlogloss:0.457403 \n",
      "[45]\ttrain-mlogloss:0.007006\ttest-mlogloss:0.459928 \n",
      "[46]\ttrain-mlogloss:0.006785\ttest-mlogloss:0.462232 \n",
      "[47]\ttrain-mlogloss:0.006558\ttest-mlogloss:0.465254 \n",
      "[48]\ttrain-mlogloss:0.006344\ttest-mlogloss:0.467074 \n",
      "[49]\ttrain-mlogloss:0.006148\ttest-mlogloss:0.469327 \n",
      "[50]\ttrain-mlogloss:0.005958\ttest-mlogloss:0.471104 \n",
      "[1]\ttrain-mlogloss:0.481322\ttest-mlogloss:0.524921 \n",
      "[2]\ttrain-mlogloss:0.352308\ttest-mlogloss:0.436981 \n",
      "[3]\ttrain-mlogloss:0.266254\ttest-mlogloss:0.385765 \n",
      "[4]\ttrain-mlogloss:0.204182\ttest-mlogloss:0.355562 \n",
      "[5]\ttrain-mlogloss:0.158580\ttest-mlogloss:0.338067 \n",
      "[6]\ttrain-mlogloss:0.129018\ttest-mlogloss:0.330384 \n",
      "[7]\ttrain-mlogloss:0.103814\ttest-mlogloss:0.326872 \n",
      "[8]\ttrain-mlogloss:0.085611\ttest-mlogloss:0.328723 \n",
      "[9]\ttrain-mlogloss:0.070657\ttest-mlogloss:0.331996 \n",
      "[10]\ttrain-mlogloss:0.057989\ttest-mlogloss:0.336716 \n",
      "[11]\ttrain-mlogloss:0.047378\ttest-mlogloss:0.344573 \n",
      "[12]\ttrain-mlogloss:0.039557\ttest-mlogloss:0.351009 \n",
      "[13]\ttrain-mlogloss:0.033208\ttest-mlogloss:0.359150 \n",
      "[14]\ttrain-mlogloss:0.028295\ttest-mlogloss:0.369429 \n",
      "[15]\ttrain-mlogloss:0.024313\ttest-mlogloss:0.378360 \n",
      "[16]\ttrain-mlogloss:0.021423\ttest-mlogloss:0.384920 \n",
      "[17]\ttrain-mlogloss:0.018796\ttest-mlogloss:0.393439 \n",
      "[18]\ttrain-mlogloss:0.016685\ttest-mlogloss:0.401707 \n",
      "[19]\ttrain-mlogloss:0.015111\ttest-mlogloss:0.408137 \n",
      "[20]\ttrain-mlogloss:0.013757\ttest-mlogloss:0.414895 \n",
      "[21]\ttrain-mlogloss:0.012592\ttest-mlogloss:0.421283 \n",
      "[22]\ttrain-mlogloss:0.011522\ttest-mlogloss:0.428071 \n",
      "[23]\ttrain-mlogloss:0.010545\ttest-mlogloss:0.435748 \n",
      "[24]\ttrain-mlogloss:0.009682\ttest-mlogloss:0.442820 \n",
      "[25]\ttrain-mlogloss:0.009029\ttest-mlogloss:0.447089 \n",
      "[26]\ttrain-mlogloss:0.008506\ttest-mlogloss:0.450226 \n",
      "[27]\ttrain-mlogloss:0.008083\ttest-mlogloss:0.452512 \n",
      "[28]\ttrain-mlogloss:0.007621\ttest-mlogloss:0.456522 \n",
      "[29]\ttrain-mlogloss:0.007153\ttest-mlogloss:0.460929 \n",
      "[30]\ttrain-mlogloss:0.006768\ttest-mlogloss:0.464954 \n",
      "[31]\ttrain-mlogloss:0.006450\ttest-mlogloss:0.468069 \n",
      "[32]\ttrain-mlogloss:0.006188\ttest-mlogloss:0.471900 \n",
      "[33]\ttrain-mlogloss:0.005970\ttest-mlogloss:0.474229 \n",
      "[34]\ttrain-mlogloss:0.005720\ttest-mlogloss:0.477417 \n",
      "[35]\ttrain-mlogloss:0.005471\ttest-mlogloss:0.480558 \n",
      "[36]\ttrain-mlogloss:0.005233\ttest-mlogloss:0.483420 \n",
      "[37]\ttrain-mlogloss:0.005018\ttest-mlogloss:0.485608 \n",
      "[38]\ttrain-mlogloss:0.004872\ttest-mlogloss:0.488612 \n",
      "[39]\ttrain-mlogloss:0.004730\ttest-mlogloss:0.490382 \n",
      "[40]\ttrain-mlogloss:0.004611\ttest-mlogloss:0.492941 \n",
      "[41]\ttrain-mlogloss:0.004423\ttest-mlogloss:0.495696 \n",
      "[42]\ttrain-mlogloss:0.004296\ttest-mlogloss:0.496832 \n",
      "[43]\ttrain-mlogloss:0.004184\ttest-mlogloss:0.499010 \n",
      "[44]\ttrain-mlogloss:0.004085\ttest-mlogloss:0.500512 \n",
      "[45]\ttrain-mlogloss:0.003980\ttest-mlogloss:0.500700 \n",
      "[46]\ttrain-mlogloss:0.003901\ttest-mlogloss:0.502556 \n",
      "[47]\ttrain-mlogloss:0.003798\ttest-mlogloss:0.504823 \n",
      "[48]\ttrain-mlogloss:0.003746\ttest-mlogloss:0.504793 \n",
      "[49]\ttrain-mlogloss:0.003688\ttest-mlogloss:0.506330 \n",
      "[50]\ttrain-mlogloss:0.003606\ttest-mlogloss:0.508274 \n",
      "[1]\ttrain-mlogloss:0.377974\ttest-mlogloss:0.450783 \n",
      "[2]\ttrain-mlogloss:0.241075\ttest-mlogloss:0.376137 \n",
      "[3]\ttrain-mlogloss:0.157862\ttest-mlogloss:0.349293 \n",
      "[4]\ttrain-mlogloss:0.108926\ttest-mlogloss:0.340512 \n",
      "[5]\ttrain-mlogloss:0.079364\ttest-mlogloss:0.342847 \n",
      "[6]\ttrain-mlogloss:0.057774\ttest-mlogloss:0.350609 \n",
      "[7]\ttrain-mlogloss:0.041822\ttest-mlogloss:0.363426 \n",
      "[8]\ttrain-mlogloss:0.031975\ttest-mlogloss:0.376837 \n",
      "[9]\ttrain-mlogloss:0.024453\ttest-mlogloss:0.391093 \n",
      "[10]\ttrain-mlogloss:0.019774\ttest-mlogloss:0.404077 \n",
      "[11]\ttrain-mlogloss:0.015988\ttest-mlogloss:0.420141 \n",
      "[12]\ttrain-mlogloss:0.013407\ttest-mlogloss:0.429012 \n",
      "[13]\ttrain-mlogloss:0.011570\ttest-mlogloss:0.436913 \n",
      "[14]\ttrain-mlogloss:0.010205\ttest-mlogloss:0.444179 \n",
      "[15]\ttrain-mlogloss:0.009040\ttest-mlogloss:0.451997 \n",
      "[16]\ttrain-mlogloss:0.008060\ttest-mlogloss:0.459984 \n",
      "[17]\ttrain-mlogloss:0.007298\ttest-mlogloss:0.466700 \n",
      "[18]\ttrain-mlogloss:0.006705\ttest-mlogloss:0.472209 \n",
      "[19]\ttrain-mlogloss:0.006103\ttest-mlogloss:0.479536 \n",
      "[20]\ttrain-mlogloss:0.005583\ttest-mlogloss:0.484873 \n",
      "[21]\ttrain-mlogloss:0.005278\ttest-mlogloss:0.487491 \n",
      "[22]\ttrain-mlogloss:0.004946\ttest-mlogloss:0.491002 \n",
      "[23]\ttrain-mlogloss:0.004705\ttest-mlogloss:0.494487 \n",
      "[24]\ttrain-mlogloss:0.004461\ttest-mlogloss:0.498424 \n",
      "[25]\ttrain-mlogloss:0.004291\ttest-mlogloss:0.500714 \n",
      "[26]\ttrain-mlogloss:0.004122\ttest-mlogloss:0.503341 \n",
      "[27]\ttrain-mlogloss:0.003947\ttest-mlogloss:0.505514 \n",
      "[28]\ttrain-mlogloss:0.003786\ttest-mlogloss:0.509443 \n",
      "[29]\ttrain-mlogloss:0.003635\ttest-mlogloss:0.512166 \n",
      "[30]\ttrain-mlogloss:0.003492\ttest-mlogloss:0.513693 \n",
      "[31]\ttrain-mlogloss:0.003379\ttest-mlogloss:0.515549 \n",
      "[32]\ttrain-mlogloss:0.003269\ttest-mlogloss:0.516994 \n",
      "[33]\ttrain-mlogloss:0.003191\ttest-mlogloss:0.518871 \n",
      "[34]\ttrain-mlogloss:0.003091\ttest-mlogloss:0.521260 \n",
      "[35]\ttrain-mlogloss:0.003022\ttest-mlogloss:0.522888 \n",
      "[36]\ttrain-mlogloss:0.002956\ttest-mlogloss:0.523317 \n",
      "[37]\ttrain-mlogloss:0.002891\ttest-mlogloss:0.526044 \n",
      "[38]\ttrain-mlogloss:0.002831\ttest-mlogloss:0.527490 \n",
      "[39]\ttrain-mlogloss:0.002752\ttest-mlogloss:0.530233 \n",
      "[40]\ttrain-mlogloss:0.002710\ttest-mlogloss:0.532106 \n",
      "[41]\ttrain-mlogloss:0.002662\ttest-mlogloss:0.533919 \n",
      "[42]\ttrain-mlogloss:0.002607\ttest-mlogloss:0.534041 \n",
      "[43]\ttrain-mlogloss:0.002557\ttest-mlogloss:0.535107 \n",
      "[44]\ttrain-mlogloss:0.002514\ttest-mlogloss:0.537682 \n",
      "[45]\ttrain-mlogloss:0.002466\ttest-mlogloss:0.539586 \n",
      "[46]\ttrain-mlogloss:0.002429\ttest-mlogloss:0.540589 \n",
      "[47]\ttrain-mlogloss:0.002406\ttest-mlogloss:0.540339 \n",
      "[48]\ttrain-mlogloss:0.002367\ttest-mlogloss:0.540964 \n",
      "[49]\ttrain-mlogloss:0.002349\ttest-mlogloss:0.541024 \n",
      "[50]\ttrain-mlogloss:0.002332\ttest-mlogloss:0.541073 \n",
      "[1]\ttrain-mlogloss:0.285406\ttest-mlogloss:0.394855 \n",
      "[2]\ttrain-mlogloss:0.162614\ttest-mlogloss:0.362473 \n",
      "[3]\ttrain-mlogloss:0.096438\ttest-mlogloss:0.358057 \n",
      "[4]\ttrain-mlogloss:0.059678\ttest-mlogloss:0.369490 \n",
      "[5]\ttrain-mlogloss:0.039529\ttest-mlogloss:0.386817 \n",
      "[6]\ttrain-mlogloss:0.027086\ttest-mlogloss:0.402567 \n",
      "[7]\ttrain-mlogloss:0.018736\ttest-mlogloss:0.420782 \n",
      "[8]\ttrain-mlogloss:0.014407\ttest-mlogloss:0.439702 \n",
      "[9]\ttrain-mlogloss:0.011571\ttest-mlogloss:0.452237 \n",
      "[10]\ttrain-mlogloss:0.009427\ttest-mlogloss:0.469403 \n",
      "[11]\ttrain-mlogloss:0.008116\ttest-mlogloss:0.476896 \n",
      "[12]\ttrain-mlogloss:0.006962\ttest-mlogloss:0.489438 \n",
      "[13]\ttrain-mlogloss:0.006150\ttest-mlogloss:0.495987 \n",
      "[14]\ttrain-mlogloss:0.005512\ttest-mlogloss:0.505227 \n",
      "[15]\ttrain-mlogloss:0.004980\ttest-mlogloss:0.514463 \n",
      "[16]\ttrain-mlogloss:0.004575\ttest-mlogloss:0.520853 \n",
      "[17]\ttrain-mlogloss:0.004131\ttest-mlogloss:0.526578 \n",
      "[18]\ttrain-mlogloss:0.003804\ttest-mlogloss:0.529852 \n",
      "[19]\ttrain-mlogloss:0.003520\ttest-mlogloss:0.535004 \n",
      "[20]\ttrain-mlogloss:0.003362\ttest-mlogloss:0.539593 \n",
      "[21]\ttrain-mlogloss:0.003248\ttest-mlogloss:0.540446 \n",
      "[22]\ttrain-mlogloss:0.003126\ttest-mlogloss:0.542929 \n",
      "[23]\ttrain-mlogloss:0.003015\ttest-mlogloss:0.546997 \n",
      "[24]\ttrain-mlogloss:0.002924\ttest-mlogloss:0.548378 \n",
      "[25]\ttrain-mlogloss:0.002826\ttest-mlogloss:0.551917 \n",
      "[26]\ttrain-mlogloss:0.002734\ttest-mlogloss:0.552842 \n",
      "[27]\ttrain-mlogloss:0.002652\ttest-mlogloss:0.554276 \n",
      "[28]\ttrain-mlogloss:0.002571\ttest-mlogloss:0.555989 \n",
      "[29]\ttrain-mlogloss:0.002535\ttest-mlogloss:0.557635 \n",
      "[30]\ttrain-mlogloss:0.002469\ttest-mlogloss:0.560878 \n",
      "[31]\ttrain-mlogloss:0.002435\ttest-mlogloss:0.562236 \n",
      "[32]\ttrain-mlogloss:0.002367\ttest-mlogloss:0.565117 \n",
      "[33]\ttrain-mlogloss:0.002308\ttest-mlogloss:0.565890 \n",
      "[34]\ttrain-mlogloss:0.002278\ttest-mlogloss:0.567688 \n",
      "[35]\ttrain-mlogloss:0.002250\ttest-mlogloss:0.568988 \n",
      "[36]\ttrain-mlogloss:0.002197\ttest-mlogloss:0.570579 \n",
      "[37]\ttrain-mlogloss:0.002171\ttest-mlogloss:0.571727 \n",
      "[38]\ttrain-mlogloss:0.002147\ttest-mlogloss:0.571368 \n",
      "[39]\ttrain-mlogloss:0.002122\ttest-mlogloss:0.570825 \n",
      "[40]\ttrain-mlogloss:0.002096\ttest-mlogloss:0.572079 \n",
      "[41]\ttrain-mlogloss:0.002071\ttest-mlogloss:0.573225 \n",
      "[42]\ttrain-mlogloss:0.002048\ttest-mlogloss:0.572617 \n",
      "[43]\ttrain-mlogloss:0.002024\ttest-mlogloss:0.575528 \n",
      "[44]\ttrain-mlogloss:0.002002\ttest-mlogloss:0.575635 \n",
      "[45]\ttrain-mlogloss:0.001983\ttest-mlogloss:0.575102 \n",
      "[46]\ttrain-mlogloss:0.001963\ttest-mlogloss:0.574838 \n",
      "[47]\ttrain-mlogloss:0.001946\ttest-mlogloss:0.574714 \n",
      "[48]\ttrain-mlogloss:0.001928\ttest-mlogloss:0.576563 \n",
      "[49]\ttrain-mlogloss:0.001910\ttest-mlogloss:0.577879 \n",
      "[50]\ttrain-mlogloss:0.001892\ttest-mlogloss:0.579979 \n"
     ]
    }
   ],
   "source": [
    "#optimizing eta\n",
    "eta = c(0.01,0.05,0.1,0.2,0.3,0.5,0.75)\n",
    "counter = 0\n",
    "logloss = rep(0,length(eta))\n",
    "for (e in eta){\n",
    "    xgmodel = xgb.train(params = xgb_params,\n",
    "                   data = dtrain,\n",
    "                   nrounds = 50,\n",
    "                   watchlist = sets,\n",
    "                       eta = e)\n",
    "    which.min(xgmodel$evaluation_log$test_mlogloss)\n",
    "    logloss[counter] = min(xgmodel$evaluation_log$test_mlogloss)\n",
    "    counter = counter + 1\n",
    "}"
   ]
  },
  {
   "cell_type": "code",
   "execution_count": 45,
   "metadata": {},
   "outputs": [
    {
     "data": {
      "text/html": [
       "7"
      ],
      "text/latex": [
       "7"
      ],
      "text/markdown": [
       "7"
      ],
      "text/plain": [
       "[1] 7"
      ]
     },
     "metadata": {},
     "output_type": "display_data"
    },
    {
     "data": {
      "text/html": [
       "0"
      ],
      "text/latex": [
       "0"
      ],
      "text/markdown": [
       "0"
      ],
      "text/plain": [
       "[1] 0"
      ]
     },
     "metadata": {},
     "output_type": "display_data"
    },
    {
     "data": {
      "image/png": "[encoded data removed]",
      "text/plain": [
       "plot without title"
      ]
     },
     "metadata": {},
     "output_type": "display_data"
    }
   ],
   "source": [
    "which.min(logloss[])\n",
    "min(logloss)\n",
    "plot(logloss)"
   ]
  },
  {
   "cell_type": "code",
   "execution_count": null,
   "metadata": {},
   "outputs": [],
   "source": [
    "# tuning lambda\n",
    "lambda = c(.00001,.001,.01,.1,.2)\n",
    "counter = 1\n",
    "mse.boost = rep(0,5)\n",
    "for (d in lambda) {\n",
    "  boost = gbm(target~., data = traindata, distribution = \"bernoulli\", n.trees = 5000, interaction.depth = 4, shrinkage = d)\n",
    "  predict.boost = predict(boost, newdata = testdata, n.trees = 5000)\n",
    "  mse.boost[counter]= mean((predict.boost- testoutcomes)^2)\n",
    "  counter= counter+1\n",
    "}\n",
    "\n",
    "\n",
    "plot(lambda, mse.boost, type= \"b\", col = \"red\")\n",
    "min(mse.boost)\n",
    "\n",
    "# adjusting lambda has reduced mse further\n"
   ]
  },
  {
   "cell_type": "code",
   "execution_count": null,
   "metadata": {},
   "outputs": [],
   "source": [
    "which.min(mse.boost)"
   ]
  },
  {
   "cell_type": "code",
   "execution_count": null,
   "metadata": {},
   "outputs": [],
   "source": [
    "# tuning number of trees \n",
    "treesize = c(500,1000,5000,10000)\n",
    "counter = 1\n",
    "mse.boost = rep(0,4)\n",
    "for (d in treesize) {\n",
    "  boost = gbm(target~., data = traindata, distribution = \"bernoulli\", n.trees = d, interaction.depth = 4, shrinkage =0.0001)\n",
    "  predict.boost = predict(boost, newdata = testdata, n.trees = d)\n",
    "  mse.boost[counter]= mean((predict.boost- testoutcomes)^2)\n",
    "  counter= counter+1\n",
    "}\n",
    "\n",
    "\n",
    "plot(treesize, mse.boost, type= \"b\", col = \"red\")\n",
    "min(mse.boost)"
   ]
  },
  {
   "cell_type": "code",
   "execution_count": null,
   "metadata": {},
   "outputs": [],
   "source": [
    "# tuning tree size \n",
    "treesize = c(5,10,17,25)\n",
    "counter = 1\n",
    "mse.boost = rep(0,4)\n",
    "for (d in treesize) {\n",
    "  boost = gbm(target~., data = traindata, distribution = \"bernoulli\", n.trees = 500, interaction.depth = d, shrinkage =0.0001)\n",
    "  predict.boost = predict(boost, newdata = testdata, n.trees = d)\n",
    "  mse.boost[counter]= mean((predict.boost- testoutcomes)^2)\n",
    "  counter= counter+1\n",
    "}\n",
    "\n",
    "plot(treesize, mse.boost, type= \"b\", col = \"red\")\n",
    "min(mse.boost)"
   ]
  },
  {
   "cell_type": "code",
   "execution_count": 23,
   "metadata": {},
   "outputs": [
    {
     "data": {
      "text/html": [
       "5.83526065398969"
      ],
      "text/latex": [
       "5.83526065398969"
      ],
      "text/markdown": [
       "5.83526065398969"
      ],
      "text/plain": [
       "[1] 5.835261"
      ]
     },
     "metadata": {},
     "output_type": "display_data"
    }
   ],
   "source": [
    "boost = gbm(target~.,data = traindata, distribution = \"bernoulli\", n.trees = 500, interaction.depth = 10, shrinkage = 0.0001)\n",
    "predict.boost = predict(boost, newdata = testdata, n.trees = 500)\n",
    "mean((predict.boost - testoutcomes)^2) ## with boosting we reduced the test error"
   ]
  },
  {
   "cell_type": "code",
   "execution_count": 45,
   "metadata": {},
   "outputs": [
    {
     "name": "stderr",
     "output_type": "stream",
     "text": [
      "Warning message in leaps.setup(x, y, wt = wt, nbest = nbest, nvmax = nvmax, force.in = force.in, :\n",
      "\"200  linear dependencies found\""
     ]
    }
   ],
   "source": [
    "regfit = regsubsets(target~.,data = traindata, nvmax =200, method = \"backward\")"
   ]
  },
  {
   "cell_type": "code",
   "execution_count": 33,
   "metadata": {},
   "outputs": [
    {
     "ename": "ERROR",
     "evalue": "Error in testdata[, names(coef)] %*% as.matrix(coef): requires numeric/complex matrix/vector arguments\n",
     "output_type": "error",
     "traceback": [
      "Error in testdata[, names(coef)] %*% as.matrix(coef): requires numeric/complex matrix/vector arguments\nTraceback:\n"
     ]
    }
   ],
   "source": [
    "val.errors = rep(0,200)\n",
    "for (i in 1:200){\n",
    "    coef = coef(regfit, id = i)\n",
    "    pred = testdata[,names(coef)]%*%as.matrix(coef)\n",
    "    val.errors[i] = mean((testoutcomes- pred)^2)\n",
    "}\n",
    "which.min(val.errors)\n",
    "coef(regfit, which.min(val.errors))"
   ]
  },
  {
   "cell_type": "code",
   "execution_count": 42,
   "metadata": {},
   "outputs": [
    {
     "data": {
      "text/html": [
       "138"
      ],
      "text/latex": [
       "138"
      ],
      "text/markdown": [
       "138"
      ],
      "text/plain": [
       "[1] 138"
      ]
     },
     "metadata": {},
     "output_type": "display_data"
    },
    {
     "data": {
      "image/png": "[encoded data removed]",
      "text/plain": [
       "plot without title"
      ]
     },
     "metadata": {},
     "output_type": "display_data"
    }
   ],
   "source": [
    "which.max(summary$adjr2)\n",
    "plot(summary$adjr2)"
   ]
  },
  {
   "cell_type": "code",
   "execution_count": null,
   "metadata": {
    "collapsed": true
   },
   "outputs": [],
   "source": []
  }
 ],
 "metadata": {
  "kernelspec": {
   "display_name": "R",
   "language": "R",
   "name": "ir"
  },
  "language_info": {
   "codemirror_mode": "r",
   "file_extension": ".r",
   "mimetype": "text/x-r-source",
   "name": "R",
   "pygments_lexer": "r",
   "version": "3.5.1"
  }
 },
 "nbformat": 4,
 "nbformat_minor": 2
}
